{
 "cells": [
  {
   "cell_type": "code",
   "execution_count": 11,
   "metadata": {},
   "outputs": [],
   "source": [
    "import numpy as np\n",
    "import pandas as pd\n",
    "from pandas import DataFrame as df\n",
    "from scipy.stats import norm\n",
    "from scipy.optimize import minimize"
   ]
  },
  {
   "cell_type": "code",
   "execution_count": 5,
   "metadata": {},
   "outputs": [],
   "source": [
    "# define true parameters\n",
    "I = 100\n",
    "J = 2\n",
    "T = 10\n",
    "beta = -0.1\n",
    "price_loc = 2\n",
    "price_scale = 0.5\n",
    "alpha_1 = 1\n",
    "alpha_2 = 1"
   ]
  },
  {
   "cell_type": "code",
   "execution_count": 4,
   "metadata": {},
   "outputs": [],
   "source": [
    "# supply side data \n",
    "# t X price_1 X price_2\n",
    "time_frame = np.array(range(1, T+1))\n",
    "price_1 = np.random.normal(price_loc, price_scale, T)\n",
    "price_2 = np.random.normal(price_loc, price_scale, T)\n",
    "df_supply_side = df({\"t\": time_frame, \"price_1\": price_1, \"price_2\": price_2})"
   ]
  },
  {
   "cell_type": "code",
   "execution_count": 6,
   "metadata": {},
   "outputs": [],
   "source": [
    "# individual side data\n",
    "# i X t \n",
    "individual_frame = []\n",
    "time_frame = []\n",
    "\n",
    "for i in range(1, I+1):\n",
    "    for t in range(1, T+1):\n",
    "        individual_frame.append(i)\n",
    "        time_frame.append(t)\n",
    "\n",
    "df_individual_side = df({\"i\": individual_frame, \"t\": time_frame})"
   ]
  },
  {
   "cell_type": "code",
   "execution_count": 8,
   "metadata": {},
   "outputs": [],
   "source": [
    "# discrete choice data\n",
    "# i X t X price_1 X price_2 X buy_product_1 X buy_product_2\n",
    "# (1) pre choice decision\n",
    "df_discrete_choice = pd.merge(df_individual_side, df_supply_side, left_on=\"t\", right_on=\"t\")\n",
    "\n",
    "# (2) attach the choice decision\n",
    "util_product_1 = alpha_1 + beta * df_discrete_choice['price_1'].values \n",
    "util_product_2 = alpha_2 + beta * df_discrete_choice['price_2'].values \n",
    "\n",
    "prob_product_1 = np.exp(util_product_1)/(1+np.exp(util_product_1)+np.exp(util_product_2))\n",
    "prob_product_2 = np.exp(util_product_2)/(1+np.exp(util_product_1)+np.exp(util_product_2))\n",
    "prob_outer = 1 - prob_product_1 - prob_product_2\n",
    "\n",
    "### decide the product decision (let the error term choose the product)\n",
    "random_u = np.random.uniform(low=0, high=1, size= I*T)\n",
    "\n",
    "d_0 = (random_u <= prob_outer).astype(int)\n",
    "d_1 = ((random_u <= prob_outer + prob_product_1) * (random_u > prob_outer)).astype(int)\n",
    "d_2 = (random_u > prob_outer + prob_product_1).astype(int)\n",
    "\n",
    "df_discrete_choice['d_0'] = d_0\n",
    "df_discrete_choice['d_1'] = d_1\n",
    "df_discrete_choice['d_2'] = d_2"
   ]
  },
  {
   "cell_type": "markdown",
   "metadata": {},
   "source": [
    "## 1. MLE"
   ]
  },
  {
   "cell_type": "code",
   "execution_count": 10,
   "metadata": {},
   "outputs": [],
   "source": [
    "def llh(theta):\n",
    "    alpha_1, alpha_2, beta = theta\n",
    "\n",
    "    util_product_1 = alpha_1 + beta * df_discrete_choice['price_1'].values \n",
    "    util_product_2 = alpha_2 + beta * df_discrete_choice['price_2'].values \n",
    "\n",
    "    prob_product_1 = np.exp(util_product_1)/(1+np.exp(util_product_1)+np.exp(util_product_2))\n",
    "    prob_product_2 = np.exp(util_product_2)/(1+np.exp(util_product_1)+np.exp(util_product_2))\n",
    "    prob_outer = 1 - prob_product_1 - prob_product_2\n",
    "\n",
    "    lh_array = df_discrete_choice['d_0'].values * prob_outer + df_discrete_choice['d_1'].values * prob_product_1 + df_discrete_choice['d_2'].values * prob_product_2\n",
    "    llh_array = np.log(lh_array)\n",
    "    llh = llh_array.sum()\n",
    "\n",
    "    return -llh"
   ]
  },
  {
   "cell_type": "code",
   "execution_count": 17,
   "metadata": {},
   "outputs": [
    {
     "data": {
      "text/plain": [
       "array([ 0.97466083,  0.88122269, -0.09637773])"
      ]
     },
     "execution_count": 17,
     "metadata": {},
     "output_type": "execute_result"
    }
   ],
   "source": [
    "res = minimize(llh, [0.5, 0.5, -0.5], method=\"Nelder-Mead\")\n",
    "res.x"
   ]
  },
  {
   "cell_type": "markdown",
   "metadata": {},
   "source": [
    "## 2. Bayesian Estimation"
   ]
  },
  {
   "cell_type": "code",
   "execution_count": 18,
   "metadata": {},
   "outputs": [],
   "source": [
    "beta_init = -0.5\n",
    "alpha_1_init = 0.5\n",
    "alpha_2_init = 0.5"
   ]
  },
  {
   "cell_type": "code",
   "execution_count": 19,
   "metadata": {},
   "outputs": [],
   "source": [
    "def llh2(alpha_1, alpha_2, beta):\n",
    "    util_product_1 = alpha_1 + beta * df_discrete_choice['price_1'].values \n",
    "    util_product_2 = alpha_2 + beta * df_discrete_choice['price_2'].values \n",
    "\n",
    "    prob_product_1 = np.exp(util_product_1)/(1+np.exp(util_product_1)+np.exp(util_product_2))\n",
    "    prob_product_2 = np.exp(util_product_2)/(1+np.exp(util_product_1)+np.exp(util_product_2))\n",
    "    prob_outer = 1 - prob_product_1 - prob_product_2\n",
    "\n",
    "    lh_array = df_discrete_choice['d_0'].values * prob_outer + df_discrete_choice['d_1'].values * prob_product_1 + df_discrete_choice['d_2'].values * prob_product_2\n",
    "    llh_array = np.log(lh_array)\n",
    "    llh = llh_array.sum()\n",
    "    return llh"
   ]
  },
  {
   "cell_type": "code",
   "execution_count": 22,
   "metadata": {},
   "outputs": [],
   "source": [
    "beta_init = -0.5\n",
    "alpha_1_init = 0.5\n",
    "alpha_2_init = 0.5\n",
    "\n",
    "counter = 0\n",
    "\n",
    "alpha_1_history = []\n",
    "alpha_2_history = []\n",
    "beta_history = []\n",
    "\n",
    "while (counter <= 3000):\n",
    "    # 1. draw alpha_1\n",
    "    alpha_1_candidate = alpha_1_init + np.random.normal(loc=0, scale=0.1, size=1)[0]\n",
    "    l_accept_rate = min(0, llh2(alpha_1_candidate, alpha_2_init, beta_init)-llh2(alpha_1_init, alpha_2_init, beta_init))\n",
    "    u = np.random.uniform(low=0, high=1, size=1)[0]\n",
    "    ln_u = np.log(u)\n",
    "    if ln_u <= l_accept_rate:\n",
    "        alpha_1_post = alpha_1_candidate\n",
    "    else:\n",
    "        alpha_1_post = alpha_1_init\n",
    "\n",
    "    # 2. draw alpha_2\n",
    "    alpha_2_candidate = alpha_2_init + np.random.normal(loc=0, scale=0.1, size=1)[0]\n",
    "    l_accept_rate = min(0, llh2(alpha_1_post, alpha_2_candidate, beta_init)-llh2(alpha_1_post, alpha_2_init, beta_init))\n",
    "    u = np.random.uniform(low=0, high=1, size=1)[0]\n",
    "    ln_u = np.log(u)\n",
    "    if ln_u <= l_accept_rate:\n",
    "        alpha_2_post = alpha_2_candidate\n",
    "    else:\n",
    "        alpha_2_post = alpha_2_init\n",
    "    \n",
    "    # 3. draw beta\n",
    "    beta_candidate = beta_init + np.random.normal(loc=0, scale=0.1, size=1)[0]\n",
    "    l_accept_rate = min(0, llh2(alpha_1_post, alpha_2_post, beta_candidate)-llh2(alpha_1_post, alpha_2_post, beta_init))\n",
    "    u = np.random.uniform(low=0, high=1, size=1)[0]\n",
    "    ln_u = np.log(u)\n",
    "    if ln_u <= l_accept_rate:\n",
    "        beta_post = beta_candidate\n",
    "    else:\n",
    "        beta_post = beta_init\n",
    "\n",
    "    # save and update\n",
    "    alpha_1_history.append(alpha_1_post)\n",
    "    alpha_2_history.append(alpha_2_post)\n",
    "    beta_history.append(beta_post)\n",
    "\n",
    "    alpha_1_init = alpha_1_post\n",
    "    alpha_2_init = alpha_2_post\n",
    "    beta_init = beta_post\n",
    "\n",
    "    counter += 1"
   ]
  },
  {
   "cell_type": "code",
   "execution_count": 25,
   "metadata": {},
   "outputs": [
    {
     "data": {
      "text/plain": [
       "0.9800208380822656"
      ]
     },
     "execution_count": 25,
     "metadata": {},
     "output_type": "execute_result"
    }
   ],
   "source": [
    "np.array(alpha_1_history[500:]).mean()"
   ]
  },
  {
   "cell_type": "code",
   "execution_count": 26,
   "metadata": {},
   "outputs": [
    {
     "data": {
      "text/plain": [
       "0.8860651050309422"
      ]
     },
     "execution_count": 26,
     "metadata": {},
     "output_type": "execute_result"
    }
   ],
   "source": [
    "np.array(alpha_2_history[500:]).mean()"
   ]
  },
  {
   "cell_type": "code",
   "execution_count": 27,
   "metadata": {},
   "outputs": [
    {
     "data": {
      "text/plain": [
       "-0.09927396319392563"
      ]
     },
     "execution_count": 27,
     "metadata": {},
     "output_type": "execute_result"
    }
   ],
   "source": [
    "np.array(beta_history[500:]).mean()"
   ]
  }
 ],
 "metadata": {
  "kernelspec": {
   "display_name": "Python 3.9.7 ('base')",
   "language": "python",
   "name": "python3"
  },
  "language_info": {
   "codemirror_mode": {
    "name": "ipython",
    "version": 3
   },
   "file_extension": ".py",
   "mimetype": "text/x-python",
   "name": "python",
   "nbconvert_exporter": "python",
   "pygments_lexer": "ipython3",
   "version": "3.9.7"
  },
  "orig_nbformat": 4,
  "vscode": {
   "interpreter": {
    "hash": "4058ae7d101d4d34f9fe782bbb6316095f0ede2a1a2e6a1564fc2428590ee83d"
   }
  }
 },
 "nbformat": 4,
 "nbformat_minor": 2
}
