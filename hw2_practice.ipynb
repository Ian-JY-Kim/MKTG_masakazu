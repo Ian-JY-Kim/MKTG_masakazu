{
 "cells": [
  {
   "cell_type": "code",
   "execution_count": 2,
   "metadata": {},
   "outputs": [],
   "source": [
    "import numpy as np\n",
    "import pandas as pd\n",
    "from pandas import DataFrame as df\n",
    "from scipy.stats import norm"
   ]
  },
  {
   "cell_type": "code",
   "execution_count": 50,
   "metadata": {},
   "outputs": [],
   "source": [
    "# define true parameters\n",
    "I = 100\n",
    "T = 10\n",
    "alpha_1 = 5\n",
    "alpha_2 = 3\n",
    "beta_bar = -1\n",
    "sigma_beta = 0.5\n",
    "price_bar = 1\n",
    "sigma_price = 0.5\n",
    "\n",
    "# bayesian estimation parameter\n",
    "search_step = 0.02"
   ]
  },
  {
   "cell_type": "code",
   "execution_count": 51,
   "metadata": {},
   "outputs": [],
   "source": [
    "def multiplyAll(s:list) -> float:\n",
    "    ans = 1\n",
    "    for n in s:\n",
    "        ans *= n\n",
    "    return ans"
   ]
  },
  {
   "cell_type": "markdown",
   "metadata": {},
   "source": [
    "## 1. Simulate Data"
   ]
  },
  {
   "cell_type": "code",
   "execution_count": 52,
   "metadata": {},
   "outputs": [],
   "source": [
    "# supply side data\n",
    "# t X price_1 X price_2\n",
    "time_frame = np.array(range(1, T+1))\n",
    "price_1 = np.random.normal(price_bar, sigma_price, T)\n",
    "price_2 = np.random.normal(price_bar, sigma_price, T)\n",
    "df_supply_side = df({\"t\": time_frame, \"price_1\": price_1, \"price_2\": price_2})"
   ]
  },
  {
   "cell_type": "code",
   "execution_count": 53,
   "metadata": {},
   "outputs": [],
   "source": [
    "# individual level data\n",
    "# i X t X beta_i\n",
    "individual_frame = []\n",
    "time_frame = []\n",
    "beta_frame = []\n",
    "\n",
    "for i in range(1, I+1):\n",
    "    beta_i = np.random.normal(beta_bar, sigma_beta, 1)[0]\n",
    "    for t in range(1, T+1):\n",
    "        individual_frame.append(i)\n",
    "        time_frame.append(t)\n",
    "        beta_frame.append(beta_i)\n",
    "\n",
    "df_individual_side = df({\"i\": individual_frame, \"t\": time_frame, \"beta_i\": beta_frame})"
   ]
  },
  {
   "cell_type": "code",
   "execution_count": 54,
   "metadata": {},
   "outputs": [],
   "source": [
    "# discrete choice data\n",
    "# i X t X price_1 X price_2 X buy_product_1 X buy_product_2\n",
    "# (1) pre choice decision\n",
    "df_discrete_choice = pd.merge(df_individual_side, df_supply_side, left_on=\"t\", right_on=\"t\")\n",
    "\n",
    "# (2) attach the choice decision\n",
    "exp_product_1 = np.exp(alpha_1 + df_discrete_choice['beta_i'].values*df_discrete_choice['price_1'].values)\n",
    "exp_product_2 = np.exp(alpha_2 + df_discrete_choice['beta_i'].values*df_discrete_choice['price_2'].values)\n",
    "\n",
    "prob_product_1 = exp_product_1/(1+exp_product_1+exp_product_2)\n",
    "prob_product_2 = exp_product_2/(1+exp_product_1+exp_product_2)\n",
    "prob_outer = 1 - prob_product_1 - prob_product_2\n",
    "\n",
    "### decide the product decision (let the error term choose the product)\n",
    "random_u = np.random.uniform(low=0, high=1, size= I*T)\n",
    "\n",
    "d_0 = (random_u <= prob_outer).astype(int)\n",
    "d_1 = ((random_u <= prob_outer + prob_product_1) * (random_u > prob_outer)).astype(int)\n",
    "d_2 = (random_u > prob_outer + prob_product_1).astype(int)\n",
    "\n",
    "df_discrete_choice['d_0'] = d_0\n",
    "df_discrete_choice['d_1'] = d_1\n",
    "df_discrete_choice['d_2'] = d_2"
   ]
  },
  {
   "cell_type": "markdown",
   "metadata": {},
   "source": [
    "## 2. Bayesian Estimation"
   ]
  },
  {
   "cell_type": "code",
   "execution_count": 55,
   "metadata": {},
   "outputs": [
    {
     "data": {
      "text/html": [
       "<div>\n",
       "<style scoped>\n",
       "    .dataframe tbody tr th:only-of-type {\n",
       "        vertical-align: middle;\n",
       "    }\n",
       "\n",
       "    .dataframe tbody tr th {\n",
       "        vertical-align: top;\n",
       "    }\n",
       "\n",
       "    .dataframe thead th {\n",
       "        text-align: right;\n",
       "    }\n",
       "</style>\n",
       "<table border=\"1\" class=\"dataframe\">\n",
       "  <thead>\n",
       "    <tr style=\"text-align: right;\">\n",
       "      <th></th>\n",
       "      <th>i</th>\n",
       "      <th>t</th>\n",
       "      <th>price_1</th>\n",
       "      <th>price_2</th>\n",
       "      <th>d_0</th>\n",
       "      <th>d_1</th>\n",
       "      <th>d_2</th>\n",
       "    </tr>\n",
       "  </thead>\n",
       "  <tbody>\n",
       "    <tr>\n",
       "      <th>0</th>\n",
       "      <td>1</td>\n",
       "      <td>1</td>\n",
       "      <td>1.389232</td>\n",
       "      <td>0.732722</td>\n",
       "      <td>1</td>\n",
       "      <td>0</td>\n",
       "      <td>0</td>\n",
       "    </tr>\n",
       "    <tr>\n",
       "      <th>1</th>\n",
       "      <td>2</td>\n",
       "      <td>1</td>\n",
       "      <td>1.389232</td>\n",
       "      <td>0.732722</td>\n",
       "      <td>0</td>\n",
       "      <td>1</td>\n",
       "      <td>0</td>\n",
       "    </tr>\n",
       "    <tr>\n",
       "      <th>2</th>\n",
       "      <td>3</td>\n",
       "      <td>1</td>\n",
       "      <td>1.389232</td>\n",
       "      <td>0.732722</td>\n",
       "      <td>0</td>\n",
       "      <td>0</td>\n",
       "      <td>1</td>\n",
       "    </tr>\n",
       "    <tr>\n",
       "      <th>3</th>\n",
       "      <td>4</td>\n",
       "      <td>1</td>\n",
       "      <td>1.389232</td>\n",
       "      <td>0.732722</td>\n",
       "      <td>0</td>\n",
       "      <td>0</td>\n",
       "      <td>1</td>\n",
       "    </tr>\n",
       "    <tr>\n",
       "      <th>4</th>\n",
       "      <td>5</td>\n",
       "      <td>1</td>\n",
       "      <td>1.389232</td>\n",
       "      <td>0.732722</td>\n",
       "      <td>0</td>\n",
       "      <td>0</td>\n",
       "      <td>1</td>\n",
       "    </tr>\n",
       "    <tr>\n",
       "      <th>...</th>\n",
       "      <td>...</td>\n",
       "      <td>...</td>\n",
       "      <td>...</td>\n",
       "      <td>...</td>\n",
       "      <td>...</td>\n",
       "      <td>...</td>\n",
       "      <td>...</td>\n",
       "    </tr>\n",
       "    <tr>\n",
       "      <th>995</th>\n",
       "      <td>96</td>\n",
       "      <td>10</td>\n",
       "      <td>1.106478</td>\n",
       "      <td>0.183926</td>\n",
       "      <td>0</td>\n",
       "      <td>1</td>\n",
       "      <td>0</td>\n",
       "    </tr>\n",
       "    <tr>\n",
       "      <th>996</th>\n",
       "      <td>97</td>\n",
       "      <td>10</td>\n",
       "      <td>1.106478</td>\n",
       "      <td>0.183926</td>\n",
       "      <td>0</td>\n",
       "      <td>1</td>\n",
       "      <td>0</td>\n",
       "    </tr>\n",
       "    <tr>\n",
       "      <th>997</th>\n",
       "      <td>98</td>\n",
       "      <td>10</td>\n",
       "      <td>1.106478</td>\n",
       "      <td>0.183926</td>\n",
       "      <td>0</td>\n",
       "      <td>0</td>\n",
       "      <td>1</td>\n",
       "    </tr>\n",
       "    <tr>\n",
       "      <th>998</th>\n",
       "      <td>99</td>\n",
       "      <td>10</td>\n",
       "      <td>1.106478</td>\n",
       "      <td>0.183926</td>\n",
       "      <td>0</td>\n",
       "      <td>1</td>\n",
       "      <td>0</td>\n",
       "    </tr>\n",
       "    <tr>\n",
       "      <th>999</th>\n",
       "      <td>100</td>\n",
       "      <td>10</td>\n",
       "      <td>1.106478</td>\n",
       "      <td>0.183926</td>\n",
       "      <td>0</td>\n",
       "      <td>1</td>\n",
       "      <td>0</td>\n",
       "    </tr>\n",
       "  </tbody>\n",
       "</table>\n",
       "<p>1000 rows × 7 columns</p>\n",
       "</div>"
      ],
      "text/plain": [
       "       i   t   price_1   price_2  d_0  d_1  d_2\n",
       "0      1   1  1.389232  0.732722    1    0    0\n",
       "1      2   1  1.389232  0.732722    0    1    0\n",
       "2      3   1  1.389232  0.732722    0    0    1\n",
       "3      4   1  1.389232  0.732722    0    0    1\n",
       "4      5   1  1.389232  0.732722    0    0    1\n",
       "..   ...  ..       ...       ...  ...  ...  ...\n",
       "995   96  10  1.106478  0.183926    0    1    0\n",
       "996   97  10  1.106478  0.183926    0    1    0\n",
       "997   98  10  1.106478  0.183926    0    0    1\n",
       "998   99  10  1.106478  0.183926    0    1    0\n",
       "999  100  10  1.106478  0.183926    0    1    0\n",
       "\n",
       "[1000 rows x 7 columns]"
      ]
     },
     "execution_count": 55,
     "metadata": {},
     "output_type": "execute_result"
    }
   ],
   "source": [
    "# data structure\n",
    "# i X t X price_1 X price_2 X d_0 X d_1 X d_2\n",
    "df_visible_to_researcher = df_discrete_choice[['i', 't', 'price_1', 'price_2', 'd_0', 'd_1', 'd_2']]\n",
    "df_visible_to_researcher"
   ]
  },
  {
   "cell_type": "code",
   "execution_count": 56,
   "metadata": {},
   "outputs": [],
   "source": [
    "# define beta_bar_init, var_beta_init, beta_i_init, alpha_1_init, alpha_2_init\n",
    "# i.e, set the hyper parameters\n",
    "beta_bar_init = -0.5\n",
    "var_beta_init = 0.3\n",
    "beta_i_init = np.random.normal(beta_bar_init, np.sqrt(var_beta_init), I)\n",
    "alpha_1_init = 2\n",
    "alpha_2_init = 2"
   ]
  },
  {
   "cell_type": "code",
   "execution_count": 57,
   "metadata": {},
   "outputs": [],
   "source": [
    "counter = 0\n",
    "\n",
    "beta_bar_history = []\n",
    "var_beta_history = []\n",
    "alpha_1_history = []\n",
    "alpha_2_history = []\n",
    "\n",
    "while (counter <= 3000):\n",
    "    # STEP (a) \n",
    "    beta_bar_post = np.random.normal(loc=beta_i_init.mean(), scale=np.sqrt(var_beta_init/I), size=1)[0]\n",
    "\n",
    "    # STEP (b)\n",
    "    IG_first_moment = 1+I\n",
    "    s_bar = ((beta_i_init - beta_bar_post)**2).mean()\n",
    "    IG_second_moment = (1 + I*s_bar)/(1+I) #WRONG\n",
    "    eta_array = np.random.normal(loc=0, scale=1, size=IG_first_moment)\n",
    "    r = (eta_array**2/IG_second_moment).mean()\n",
    "    var_beta_post = 1/r\n",
    "\n",
    "    # STEP (c)\n",
    "    # likelihood function \n",
    "    def likelihood(beta_i, alpha_1, alpha_2, df_i):\n",
    "        exp_product_1 = np.exp(alpha_1 + beta_i*df_i['price_1'].values)\n",
    "        exp_product_2 = np.exp(alpha_2 + beta_i*df_i['price_2'].values)\n",
    "\n",
    "        prob_product_1 = exp_product_1/(1+exp_product_1+exp_product_2)\n",
    "        prob_product_2 = exp_product_2/(1+exp_product_1+exp_product_2)\n",
    "        prob_outer = 1 - prob_product_1 - prob_product_2\n",
    "\n",
    "        likelihood_array = df_i['d_0'].values * prob_outer + df_i['d_1'].values * prob_product_1 + df_i['d_2'].values * prob_product_2\n",
    "        llh_array = np.log(likelihood_array)\n",
    "        llh = llh_array.sum() + np.log(norm.pdf(beta_i, loc=beta_bar_post, scale = np.sqrt(var_beta_post)))\n",
    "\n",
    "        return llh\n",
    "\n",
    "    beta_i_post = []\n",
    "    for i in range(I):\n",
    "        beta_i_init_individual = beta_i_init[i]\n",
    "        beta_i_candidate = beta_i_init_individual + np.random.normal(loc=0, scale=0.1, size=1)[0]\n",
    "        df_i = df_visible_to_researcher.loc[df_visible_to_researcher['i']==i]\n",
    "\n",
    "        # likelihood of the pre beta\n",
    "        llh_init = likelihood(beta_i_init_individual, alpha_1_init, alpha_2_init, df_i)\n",
    "\n",
    "        # likelihood of the candidate beta\n",
    "        llh_post = likelihood(beta_i_candidate, alpha_1_init, alpha_2_init, df_i)\n",
    "\n",
    "        # accept/reject \n",
    "        l_acc_prob = min(0, llh_post-llh_init)\n",
    "        mu = np.random.uniform(low=0, high=1, size=1)[0]\n",
    "        lmu = np.log(mu)\n",
    "        \n",
    "        if lmu <= l_acc_prob:\n",
    "            beta_i_post_individual = beta_i_candidate\n",
    "        else:\n",
    "            beta_i_post_individual = beta_i_init_individual\n",
    "\n",
    "        beta_i_post.append(beta_i_post_individual)\n",
    "\n",
    "    beta_i_post = np.array(beta_i_post)\n",
    "\n",
    "    \n",
    "    # STEP (d)\n",
    "    df_beta_i = df({\"i\": list(range(1,I+1)), \"beta_i\": beta_i_post})\n",
    "    df_update_alpha = pd.merge(df_visible_to_researcher, df_beta_i, left_on='i', right_on='i')\n",
    "\n",
    "    def likelihood_alpha(alpha_1, alpha_2, df):\n",
    "        exp_product_1 = np.exp(alpha_1 + df['beta_i'].values * df['price_1'].values)\n",
    "        exp_product_2 = np.exp(alpha_2 + df['beta_i'].values * df['price_2'].values)\n",
    "\n",
    "        prob_product_1 = exp_product_1/(1+exp_product_1+exp_product_2) \n",
    "        prob_product_2 = exp_product_2/(1+exp_product_1+exp_product_2) \n",
    "        prob_outer = 1 - prob_product_1 - prob_product_2\n",
    "\n",
    "        prob_product_1 = prob_product_1 \n",
    "        prob_product_2 = prob_product_2 \n",
    "        prob_outer = prob_outer \n",
    "\n",
    "        likelihood_array = df['d_0'].values * prob_outer + df['d_1'].values * prob_product_1 + df['d_2'].values * prob_product_2\n",
    "        llh_array = np.log(likelihood_array)\n",
    "        llh = sum(llh_array)\n",
    "\n",
    "        return llh\n",
    "\n",
    "    alpha_1_candidate = alpha_1_init + np.random.normal(loc=0, scale=0.3, size=1)[0]\n",
    "\n",
    "    # likelihood of the pre alpha\n",
    "    llh_init = likelihood_alpha(alpha_1_init, alpha_2_init, df_update_alpha)\n",
    "\n",
    "    # likelihood of the alpha_candidate\n",
    "    llh_post = likelihood_alpha(alpha_1_candidate, alpha_2_init, df_update_alpha)\n",
    "\n",
    "    # accept/reject\n",
    "    l_acc_prob = min(0, llh_post-llh_init)\n",
    "    mu = np.random.uniform(low=0, high=1, size=1)[0]\n",
    "    lmu = np.log(mu)\n",
    "    \n",
    "    if lmu <= l_acc_prob:\n",
    "        alpha_1_post = alpha_1_candidate\n",
    "    else:\n",
    "        alpha_1_post = alpha_1_init\n",
    "\n",
    "    \n",
    "    # STEP (e)\n",
    "    alpha_2_candidate = alpha_2_init + np.random.normal(loc=0, scale=0.3, size=1)[0]\n",
    "\n",
    "    # likelihood of the pre alpha\n",
    "    llh_init = likelihood_alpha(alpha_1_post, alpha_2_init, df_update_alpha)\n",
    "\n",
    "    # likelihood of the alpha_candidate\n",
    "    llh_post = likelihood_alpha(alpha_1_post, alpha_2_candidate, df_update_alpha)\n",
    "\n",
    "    # accept/reject\n",
    "    l_acc_prob = min(0, llh_post-llh_init)\n",
    "    mu = np.random.uniform(low=0, high=1, size=1)[0]\n",
    "    lmu = np.log(mu)\n",
    "    \n",
    "    if lmu <= l_acc_prob:\n",
    "        alpha_2_post = alpha_2_candidate\n",
    "    else:\n",
    "        alpha_2_post = alpha_2_init\n",
    "\n",
    "    # Save the results\n",
    "    beta_bar_history.append(beta_bar_post)\n",
    "    var_beta_history.append(var_beta_post)\n",
    "    alpha_1_history.append(alpha_1_post)\n",
    "    alpha_2_history.append(alpha_2_post)\n",
    "    \n",
    "    # Update the inits\n",
    "    beta_bar_init = beta_bar_post\n",
    "    var_beta_init = var_beta_post\n",
    "    beta_i_init = beta_i_post\n",
    "    alpha_1_init = alpha_1_post\n",
    "    alpha_2_init = alpha_2_post\n",
    "\n",
    "    # add 1 to counter\n",
    "    counter += 1 "
   ]
  },
  {
   "cell_type": "code",
   "execution_count": 58,
   "metadata": {},
   "outputs": [
    {
     "data": {
      "text/plain": [
       "-1.0456390620758769"
      ]
     },
     "execution_count": 58,
     "metadata": {},
     "output_type": "execute_result"
    }
   ],
   "source": [
    "np.array(beta_bar_history[700:]).mean()"
   ]
  },
  {
   "cell_type": "code",
   "execution_count": 59,
   "metadata": {},
   "outputs": [
    {
     "data": {
      "text/plain": [
       "0.23392318264797388"
      ]
     },
     "execution_count": 59,
     "metadata": {},
     "output_type": "execute_result"
    }
   ],
   "source": [
    "np.array(var_beta_history[700:]).mean()"
   ]
  },
  {
   "cell_type": "code",
   "execution_count": 60,
   "metadata": {},
   "outputs": [
    {
     "data": {
      "text/plain": [
       "5.070429970165814"
      ]
     },
     "execution_count": 60,
     "metadata": {},
     "output_type": "execute_result"
    }
   ],
   "source": [
    "np.array(alpha_1_history[700:]).mean()"
   ]
  },
  {
   "cell_type": "code",
   "execution_count": 61,
   "metadata": {},
   "outputs": [
    {
     "data": {
      "text/plain": [
       "2.9947221575341825"
      ]
     },
     "execution_count": 61,
     "metadata": {},
     "output_type": "execute_result"
    }
   ],
   "source": [
    "np.array(alpha_2_history[700:]).mean()"
   ]
  }
 ],
 "metadata": {
  "kernelspec": {
   "display_name": "Python 3.9.7 ('base')",
   "language": "python",
   "name": "python3"
  },
  "language_info": {
   "codemirror_mode": {
    "name": "ipython",
    "version": 3
   },
   "file_extension": ".py",
   "mimetype": "text/x-python",
   "name": "python",
   "nbconvert_exporter": "python",
   "pygments_lexer": "ipython3",
   "version": "3.9.7"
  },
  "orig_nbformat": 4,
  "vscode": {
   "interpreter": {
    "hash": "4058ae7d101d4d34f9fe782bbb6316095f0ede2a1a2e6a1564fc2428590ee83d"
   }
  }
 },
 "nbformat": 4,
 "nbformat_minor": 2
}
