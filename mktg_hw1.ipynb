{
 "cells": [
  {
   "cell_type": "code",
   "execution_count": 350,
   "metadata": {},
   "outputs": [
    {
     "name": "stderr",
     "output_type": "stream",
     "text": [
      "2023-02-14 21:39:39,806\tINFO worker.py:1370 -- Calling ray.init() again after it has already been called.\n"
     ]
    },
    {
     "data": {
      "text/html": [
       "<div>\n",
       "    <div style=\"margin-left: 50px;display: flex;flex-direction: row;align-items: center\">\n",
       "        <h3 style=\"color: var(--jp-ui-font-color0)\">Ray</h3>\n",
       "        <svg version=\"1.1\" id=\"ray\" width=\"3em\" viewBox=\"0 0 144.5 144.6\" style=\"margin-left: 3em;margin-right: 3em\">\n",
       "            <g id=\"layer-1\">\n",
       "                <path fill=\"#00a2e9\" class=\"st0\" d=\"M97.3,77.2c-3.8-1.1-6.2,0.9-8.3,5.1c-3.5,6.8-9.9,9.9-17.4,9.6S58,88.1,54.8,81.2c-1.4-3-3-4-6.3-4.1\n",
       "                    c-5.6-0.1-9.9,0.1-13.1,6.4c-3.8,7.6-13.6,10.2-21.8,7.6C5.2,88.4-0.4,80.5,0,71.7c0.1-8.4,5.7-15.8,13.8-18.2\n",
       "                    c8.4-2.6,17.5,0.7,22.3,8c1.3,1.9,1.3,5.2,3.6,5.6c3.9,0.6,8,0.2,12,0.2c1.8,0,1.9-1.6,2.4-2.8c3.5-7.8,9.7-11.8,18-11.9\n",
       "                    c8.2-0.1,14.4,3.9,17.8,11.4c1.3,2.8,2.9,3.6,5.7,3.3c1-0.1,2,0.1,3,0c2.8-0.5,6.4,1.7,8.1-2.7s-2.3-5.5-4.1-7.5\n",
       "                    c-5.1-5.7-10.9-10.8-16.1-16.3C84,38,81.9,37.1,78,38.3C66.7,42,56.2,35.7,53,24.1C50.3,14,57.3,2.8,67.7,0.5\n",
       "                    C78.4-2,89,4.7,91.5,15.3c0.1,0.3,0.1,0.5,0.2,0.8c0.7,3.4,0.7,6.9-0.8,9.8c-1.7,3.2-0.8,5,1.5,7.2c6.7,6.5,13.3,13,19.8,19.7\n",
       "                    c1.8,1.8,3,2.1,5.5,1.2c9.1-3.4,17.9-0.6,23.4,7c4.8,6.9,4.6,16.1-0.4,22.9c-5.4,7.2-14.2,9.9-23.1,6.5c-2.3-0.9-3.5-0.6-5.1,1.1\n",
       "                    c-6.7,6.9-13.6,13.7-20.5,20.4c-1.8,1.8-2.5,3.2-1.4,5.9c3.5,8.7,0.3,18.6-7.7,23.6c-7.9,5-18.2,3.8-24.8-2.9\n",
       "                    c-6.4-6.4-7.4-16.2-2.5-24.3c4.9-7.8,14.5-11,23.1-7.8c3,1.1,4.7,0.5,6.9-1.7C91.7,98.4,98,92.3,104.2,86c1.6-1.6,4.1-2.7,2.6-6.2\n",
       "                    c-1.4-3.3-3.8-2.5-6.2-2.6C99.8,77.2,98.9,77.2,97.3,77.2z M72.1,29.7c5.5,0.1,9.9-4.3,10-9.8c0-0.1,0-0.2,0-0.3\n",
       "                    C81.8,14,77,9.8,71.5,10.2c-5,0.3-9,4.2-9.3,9.2c-0.2,5.5,4,10.1,9.5,10.3C71.8,29.7,72,29.7,72.1,29.7z M72.3,62.3\n",
       "                    c-5.4-0.1-9.9,4.2-10.1,9.7c0,0.2,0,0.3,0,0.5c0.2,5.4,4.5,9.7,9.9,10c5.1,0.1,9.9-4.7,10.1-9.8c0.2-5.5-4-10-9.5-10.3\n",
       "                    C72.6,62.3,72.4,62.3,72.3,62.3z M115,72.5c0.1,5.4,4.5,9.7,9.8,9.9c5.6-0.2,10-4.8,10-10.4c-0.2-5.4-4.6-9.7-10-9.7\n",
       "                    c-5.3-0.1-9.8,4.2-9.9,9.5C115,72.1,115,72.3,115,72.5z M19.5,62.3c-5.4,0.1-9.8,4.4-10,9.8c-0.1,5.1,5.2,10.4,10.2,10.3\n",
       "                    c5.6-0.2,10-4.9,9.8-10.5c-0.1-5.4-4.5-9.7-9.9-9.6C19.6,62.3,19.5,62.3,19.5,62.3z M71.8,134.6c5.9,0.2,10.3-3.9,10.4-9.6\n",
       "                    c0.5-5.5-3.6-10.4-9.1-10.8c-5.5-0.5-10.4,3.6-10.8,9.1c0,0.5,0,0.9,0,1.4c-0.2,5.3,4,9.8,9.3,10\n",
       "                    C71.6,134.6,71.7,134.6,71.8,134.6z\"/>\n",
       "            </g>\n",
       "        </svg>\n",
       "        <table>\n",
       "            <tr>\n",
       "                <td style=\"text-align: left\"><b>Python version:</b></td>\n",
       "                <td style=\"text-align: left\"><b>3.9.7</b></td>\n",
       "            </tr>\n",
       "            <tr>\n",
       "                <td style=\"text-align: left\"><b>Ray version:</b></td>\n",
       "                <td style=\"text-align: left\"><b> 2.2.0</b></td>\n",
       "            </tr>\n",
       "            \n",
       "        </table>\n",
       "    </div>\n",
       "</div>\n"
      ],
      "text/plain": [
       "RayContext(dashboard_url='', python_version='3.9.7', ray_version='2.2.0', ray_commit='b6af0887ee5f2e460202133791ad941a41f15beb', address_info={'node_ip_address': '127.0.0.1', 'raylet_ip_address': '127.0.0.1', 'redis_address': None, 'object_store_address': '/tmp/ray/session_2023-02-14_21-17-26_321742_26615/sockets/plasma_store', 'raylet_socket_name': '/tmp/ray/session_2023-02-14_21-17-26_321742_26615/sockets/raylet', 'webui_url': '', 'session_dir': '/tmp/ray/session_2023-02-14_21-17-26_321742_26615', 'metrics_export_port': 55205, 'gcs_address': '127.0.0.1:51522', 'address': '127.0.0.1:51522', 'dashboard_agent_listen_port': 52365, 'node_id': '51d910d8099478699e1391e1802344c0a958c08f50da245b9c2df423'})"
      ]
     },
     "execution_count": 350,
     "metadata": {},
     "output_type": "execute_result"
    }
   ],
   "source": [
    "import numpy as np\n",
    "import pandas as pd\n",
    "from pandas import DataFrame as df\n",
    "import random\n",
    "import math\n",
    "import time \n",
    "from scipy.optimize import minimize\n",
    "import ray\n",
    "ray.init(num_cpus= 10, ignore_reinit_error=True)"
   ]
  },
  {
   "cell_type": "code",
   "execution_count": 351,
   "metadata": {},
   "outputs": [],
   "source": [
    "#define true parameters \n",
    "M = 1000\n",
    "alpha_1 = 1\n",
    "alpha_2 = 1\n",
    "beta = -0.1\n",
    "price_loc = 2\n",
    "price_scale = 0.5"
   ]
  },
  {
   "cell_type": "markdown",
   "metadata": {},
   "source": [
    "# Part A. Simulate Data"
   ]
  },
  {
   "cell_type": "code",
   "execution_count": 352,
   "metadata": {},
   "outputs": [],
   "source": [
    "def DGP():\n",
    "    # i X t dataframe (1000 X 2)\n",
    "    i_list = np.full(10, 1)\n",
    "    t_list = np.array([t for t in range(1, 11)])\n",
    "    for i in range(2,101):\n",
    "        i_list = np.concatenate((i_list, np.full(10, i)), axis = None)\n",
    "        t_list = np.concatenate((t_list, np.array([t for t in range(1, 11)])), axis = None)\n",
    "    df_simulation = df({'i': i_list, 't': t_list})\n",
    "\n",
    "    # t p_1t p_2t dataframe (10 X 2)\n",
    "    t_list_10 = np.array([t for t in range(1, 11)])\n",
    "    p_1_draw = np.random.normal(price_loc, price_scale, 10)\n",
    "    p_2_draw = np.random.normal(price_loc, price_scale, 10)\n",
    "    df_price = df({'t': t_list_10, 'p_1t': p_1_draw, 'p_2t': p_2_draw})\n",
    "\n",
    "    # merge\n",
    "    df_simulation = pd.merge(df_simulation, df_price, left_on=\"t\", right_on=\"t\")\n",
    "    df_simulation = df_simulation.sort_values(by = ['i', 't'], ascending= True)\n",
    "\n",
    "    # simulate decision\n",
    "    p_1_array = np.array(df_simulation['p_1t'])\n",
    "    p_2_array = np.array(df_simulation['p_2t'])\n",
    "    exp_1_array = np.exp(alpha_1 + beta*p_1_array)\n",
    "    exp_2_array = np.exp(alpha_2 + beta*p_2_array)\n",
    "    prob_1_array = exp_1_array/(1 + exp_1_array + exp_2_array)\n",
    "    prob_2_array = exp_2_array/(1 + exp_1_array + exp_2_array)\n",
    "    prob_0_array = 1 - prob_1_array - prob_2_array\n",
    "    u_array = np.random.uniform(0,1,1000)\n",
    "\n",
    "    d_0t_bool = (u_array < prob_0_array).astype(int)\n",
    "\n",
    "    d_1t_temp1 = (u_array >= prob_0_array)\n",
    "    d_1t_temp2 = (u_array < prob_0_array + prob_1_array)\n",
    "    d_1t_bool = (d_1t_temp1 * d_1t_temp2).astype(int)\n",
    "\n",
    "    d_2t_bool = (u_array >= prob_0_array + prob_1_array).astype(int)\n",
    "\n",
    "    df_simulation['d_0t'] = d_0t_bool\n",
    "    df_simulation['d_1t'] = d_1t_bool\n",
    "    df_simulation['d_2t'] = d_2t_bool\n",
    "\n",
    "    return df_simulation\n"
   ]
  },
  {
   "cell_type": "markdown",
   "metadata": {},
   "source": [
    "# Part B. (1) MLE"
   ]
  },
  {
   "cell_type": "code",
   "execution_count": 353,
   "metadata": {},
   "outputs": [],
   "source": [
    "def log_likelihood(theta, data_observable):\n",
    "    alpha_1, alpha_2, beta = theta\n",
    "\n",
    "    p_1_array = np.array(data_observable['p_1t'])\n",
    "    p_2_array = np.array(data_observable['p_2t'])\n",
    "    d_0t_array = np.array(data_observable['d_0t'])\n",
    "    d_1t_array = np.array(data_observable['d_1t'])\n",
    "    d_2t_array = np.array(data_observable['d_2t'])\n",
    "    \n",
    "    exp_1_array = np.exp(alpha_1 + beta*p_1_array)\n",
    "    exp_2_array = np.exp(alpha_2 + beta*p_2_array)\n",
    "    prob_1_array = exp_1_array/(1 + exp_1_array + exp_2_array)\n",
    "    prob_2_array = exp_2_array/(1 + exp_1_array + exp_2_array)\n",
    "    prob_0_array = 1 - prob_1_array - prob_2_array\n",
    "\n",
    "    prob_array = d_0t_array * np.log(prob_0_array) + d_1t_array * np.log(prob_1_array) + d_2t_array * np.log(prob_2_array)\n",
    "    log_sum = prob_array.sum()\n",
    "\n",
    "    return -log_sum"
   ]
  },
  {
   "cell_type": "code",
   "execution_count": 354,
   "metadata": {},
   "outputs": [],
   "source": [
    "df_list = [DGP() for i in range(M)]\n",
    "MLE_result_list = []\n",
    "for df in df_list:\n",
    "    MLE_result = minimize(log_likelihood, [0.5, 0.5, -0.1], args = (df), method='Nelder-Mead', options={'maxiter':200})\n",
    "    MLE_result_list.append(MLE_result.x)"
   ]
  },
  {
   "cell_type": "code",
   "execution_count": 355,
   "metadata": {},
   "outputs": [],
   "source": [
    "@ray.remote\n",
    "def MLE_bootstrap(df):\n",
    "    MLE_result = minimize(log_likelihood, [0.5, 0.5, -0.1], args = (df), method='Nelder-Mead', options={'maxiter':200})\n",
    "    return MLE_result.x\n",
    "\n",
    "MLE_list = [MLE_bootstrap.remote(df) for df in df_list]\n",
    "MLE_array = np.array(ray.get(MLE_list))"
   ]
  },
  {
   "cell_type": "code",
   "execution_count": 356,
   "metadata": {},
   "outputs": [
    {
     "name": "stdout",
     "output_type": "stream",
     "text": [
      "average of MLE estimates for alpha_1:  1.002000187083169\n",
      "average of MLE estimates for alpha_2:  1.0006464707030414\n",
      "average of MLE estimates for beta:  -0.09974230237470721\n"
     ]
    }
   ],
   "source": [
    "print(\"average of MLE estimates for alpha_1: \", MLE_array[:,0].mean())\n",
    "print(\"average of MLE estimates for alpha_2: \", MLE_array[:,1].mean())\n",
    "print(\"average of MLE estimates for beta: \", MLE_array[:,2].mean())"
   ]
  },
  {
   "cell_type": "markdown",
   "metadata": {},
   "source": [
    "# Part B. (2) Bayesian"
   ]
  },
  {
   "cell_type": "code",
   "execution_count": 357,
   "metadata": {},
   "outputs": [],
   "source": [
    "def log_likelihood2(theta, data_observable):\n",
    "    alpha_1, alpha_2, beta = theta\n",
    "\n",
    "    p_1_array = np.array(data_observable['p_1t'])\n",
    "    p_2_array = np.array(data_observable['p_2t'])\n",
    "    d_0t_array = np.array(data_observable['d_0t'])\n",
    "    d_1t_array = np.array(data_observable['d_1t'])\n",
    "    d_2t_array = np.array(data_observable['d_2t'])\n",
    "    \n",
    "    exp_1_array = np.exp(alpha_1 + beta*p_1_array)\n",
    "    exp_2_array = np.exp(alpha_2 + beta*p_2_array)\n",
    "    prob_1_array = exp_1_array/(1 + exp_1_array + exp_2_array)\n",
    "    prob_2_array = exp_2_array/(1 + exp_1_array + exp_2_array)\n",
    "    prob_0_array = 1 - prob_1_array - prob_2_array\n",
    "\n",
    "    prob_array = d_0t_array * np.log(prob_0_array) + d_1t_array * np.log(prob_1_array) + d_2t_array * np.log(prob_2_array)\n",
    "    log_sum = prob_array.sum()\n",
    "\n",
    "    return log_sum"
   ]
  },
  {
   "cell_type": "code",
   "execution_count": 358,
   "metadata": {},
   "outputs": [],
   "source": [
    "@ray.remote\n",
    "def bayesian_bootstrap(df):\n",
    "    draw_list = []\n",
    "    theta_pre = np.array([0.5, 0.5, 0])\n",
    "\n",
    "    for i in range(2000): # setting the number of draws is critical in estimating\n",
    "        theta_candidate = theta_pre + np.random.normal(0, 0.3, 3) #setting variance is critical in estimating\n",
    "        mu = np.random.uniform(0,1,1)\n",
    "        \n",
    "        llh_pre = log_likelihood2(theta_pre, df)\n",
    "        llh_candidate = log_likelihood2(theta_candidate, df)\n",
    "\n",
    "        if math.log(mu) <= llh_candidate - llh_pre:\n",
    "            theta_post = theta_candidate\n",
    "        else:\n",
    "            theta_post = theta_pre\n",
    "\n",
    "        draw_list.append(theta_post)\n",
    "        theta_pre = theta_post\n",
    "\n",
    "    alpha_1_hat = np.array(draw_list)[:,0].mean()\n",
    "    alpha_2_hat = np.array(draw_list)[:,1].mean()\n",
    "    beta_hat = np.array(draw_list)[:,2].mean()\n",
    "\n",
    "    return alpha_1_hat, alpha_2_hat, beta_hat\n",
    "\n",
    "bootstrap_list = [bayesian_bootstrap.remote(df) for df in df_list]\n",
    "bootstrap_array = np.array(ray.get(bootstrap_list))"
   ]
  },
  {
   "cell_type": "code",
   "execution_count": 359,
   "metadata": {},
   "outputs": [
    {
     "name": "stdout",
     "output_type": "stream",
     "text": [
      "average of Bayesian estimates for alpha_1:  0.9884759132770097\n",
      "average of Bayesian estimates for alpha_2:  0.9876565199373617\n",
      "average of Bayesian estimates for beta:  -0.09366364118889657\n"
     ]
    }
   ],
   "source": [
    "print(\"average of Bayesian estimates for alpha_1: \", bootstrap_array[:,0].mean())\n",
    "print(\"average of Bayesian estimates for alpha_2: \", bootstrap_array[:,1].mean())\n",
    "print(\"average of Bayesian estimates for beta: \", bootstrap_array[:,2].mean())"
   ]
  }
 ],
 "metadata": {
  "kernelspec": {
   "display_name": "Python 3.9.7 ('base')",
   "language": "python",
   "name": "python3"
  },
  "language_info": {
   "codemirror_mode": {
    "name": "ipython",
    "version": 3
   },
   "file_extension": ".py",
   "mimetype": "text/x-python",
   "name": "python",
   "nbconvert_exporter": "python",
   "pygments_lexer": "ipython3",
   "version": "3.9.7"
  },
  "orig_nbformat": 4,
  "vscode": {
   "interpreter": {
    "hash": "4058ae7d101d4d34f9fe782bbb6316095f0ede2a1a2e6a1564fc2428590ee83d"
   }
  }
 },
 "nbformat": 4,
 "nbformat_minor": 2
}
