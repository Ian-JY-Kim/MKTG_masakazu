{
 "cells": [
  {
   "cell_type": "code",
   "execution_count": 174,
   "metadata": {},
   "outputs": [
    {
     "name": "stderr",
     "output_type": "stream",
     "text": [
      "2023-02-28 12:09:45,322\tINFO worker.py:1370 -- Calling ray.init() again after it has already been called.\n"
     ]
    }
   ],
   "source": [
    "import numpy as np\n",
    "import pandas as pd\n",
    "from pandas import DataFrame as df\n",
    "import random\n",
    "import math\n",
    "import time \n",
    "import matplotlib.pyplot as plt\n",
    "import seaborn as sns\n",
    "from scipy.optimize import minimize\n",
    "from scipy.stats import norm\n",
    "import ray\n",
    "ray.init(num_cpus= 10, ignore_reinit_error=True)\n",
    "from numba import jit"
   ]
  },
  {
   "cell_type": "code",
   "execution_count": 432,
   "metadata": {},
   "outputs": [],
   "source": [
    "from sklearn.linear_model import LinearRegression\n",
    "from linearmodels.iv import IV2SLS\n",
    "import statsmodels.api as sm\n",
    "import linearmodels\n",
    "from statsmodels.iolib.summary2 import summary_col\n",
    "from scipy.optimize import minimize\n"
   ]
  },
  {
   "cell_type": "code",
   "execution_count": 4,
   "metadata": {},
   "outputs": [],
   "source": [
    "# Define True Parameters\n",
    "alpha_0 = 3\n",
    "alpha_1 = 1.5\n",
    "beta_bar = -1\n",
    "sigma_beta = 0.2\n",
    "omega_0 = 5\n",
    "omega_1 = 1\n",
    "omega_2 = 2\n",
    "sigma_xi = 1\n",
    "sigma_xieta = 0.5\n",
    "sigma_eta = 2"
   ]
  },
  {
   "cell_type": "markdown",
   "metadata": {},
   "source": [
    "# Part A. Simulate Data"
   ]
  },
  {
   "cell_type": "code",
   "execution_count": 62,
   "metadata": {},
   "outputs": [],
   "source": [
    "# panel frame t X j\n",
    "t_list = []\n",
    "j_list = []\n",
    "for i in range(1,101):\n",
    "    t_temp = list(np.full(10,i))\n",
    "    j_temp = [k for k in range(1,11)]\n",
    "    t_list = t_list + t_temp\n",
    "    j_list = j_list + j_temp"
   ]
  },
  {
   "cell_type": "code",
   "execution_count": 339,
   "metadata": {},
   "outputs": [],
   "source": [
    "# (1) random draw part\n",
    "# fix the seed to allow replication\n",
    "np.random.seed(1)\n",
    "\n",
    "# draw x\n",
    "x_list = np.random.normal(1, 0.5, 1000)\n",
    "\n",
    "# draw z\n",
    "z_list = np.random.normal(1, 0.5, 1000)\n",
    "\n",
    "# draw xi & eta\n",
    "xieta_mean = (0, 0)\n",
    "xieta_cov = [[sigma_xi**2, sigma_xieta], [sigma_xieta, sigma_eta**2]]\n",
    "xi_list, eta_list = np.random.multivariate_normal(xieta_mean, xieta_cov, 1000).T\n",
    "\n",
    "# construct a dataframe\n",
    "df_master = df({\"t\": t_list, \"j\": j_list, \"x\": x_list, \"z\": z_list, \"xi\": xi_list, \"eta\": eta_list})"
   ]
  },
  {
   "cell_type": "code",
   "execution_count": 340,
   "metadata": {},
   "outputs": [],
   "source": [
    "# (2) calculation part\n",
    "# calculate price\n",
    "df_master['price'] = omega_0 + omega_1*df_master['x'].values + omega_2*df_master['z'].values + df_master['eta'].values\n",
    "\n",
    "# draw beta directly from the ture distribution\n",
    "np.random.seed(2)\n",
    "beta_draw = np.random.normal(beta_bar, sigma_beta, 3000)\n",
    "\n",
    "# calculate true share\n",
    "true_share_list = []\n",
    "true_delta_list = []\n",
    "for t in range(1,101):\n",
    "    work_data = df_master.loc[df_master['t']==t]\n",
    "    \n",
    "    exp_common = 0\n",
    "    for j in range(10):\n",
    "        x_j = work_data['x'].values[j]\n",
    "        p_j = work_data['price'].values[j]\n",
    "        xi_j = work_data['xi'].values[j]\n",
    "        exp_j = np.exp(alpha_0 + alpha_1*x_j + beta_draw*p_j + xi_j)\n",
    "        exp_common += exp_j\n",
    "    denominator_common = 1 + exp_common\n",
    "\n",
    "    share_list_temp = []\n",
    "    delta_list_temp = []\n",
    "    for k in range(10):\n",
    "        x_k = work_data['x'].values[k]\n",
    "        p_k = work_data['price'].values[k]\n",
    "        xi_k = work_data['xi'].values[k]\n",
    "        exp_k = np.exp(alpha_0 + alpha_1*x_k + beta_draw*p_k + xi_k)\n",
    "        s_k = (exp_k/denominator_common).mean()\n",
    "        delta_k = (alpha_0 + alpha_1*x_k + beta_draw*p_k + xi_k).mean()\n",
    "        share_list_temp.append(s_k)\n",
    "        delta_list_temp.append(delta_k)\n",
    "\n",
    "    true_share_list = true_share_list + share_list_temp\n",
    "    true_delta_list = true_delta_list + delta_list_temp"
   ]
  },
  {
   "cell_type": "code",
   "execution_count": 341,
   "metadata": {},
   "outputs": [],
   "source": [
    "df_master['true_share'] = true_share_list\n",
    "df_master['true_delta'] = true_delta_list"
   ]
  },
  {
   "cell_type": "code",
   "execution_count": 342,
   "metadata": {},
   "outputs": [
    {
     "data": {
      "text/html": [
       "<div>\n",
       "<style scoped>\n",
       "    .dataframe tbody tr th:only-of-type {\n",
       "        vertical-align: middle;\n",
       "    }\n",
       "\n",
       "    .dataframe tbody tr th {\n",
       "        vertical-align: top;\n",
       "    }\n",
       "\n",
       "    .dataframe thead th {\n",
       "        text-align: right;\n",
       "    }\n",
       "</style>\n",
       "<table border=\"1\" class=\"dataframe\">\n",
       "  <thead>\n",
       "    <tr style=\"text-align: right;\">\n",
       "      <th></th>\n",
       "      <th>t</th>\n",
       "      <th>j</th>\n",
       "      <th>x</th>\n",
       "      <th>z</th>\n",
       "      <th>xi</th>\n",
       "      <th>eta</th>\n",
       "      <th>price</th>\n",
       "      <th>true_share</th>\n",
       "      <th>true_delta</th>\n",
       "    </tr>\n",
       "  </thead>\n",
       "  <tbody>\n",
       "    <tr>\n",
       "      <th>0</th>\n",
       "      <td>1</td>\n",
       "      <td>1</td>\n",
       "      <td>1.812173</td>\n",
       "      <td>0.923382</td>\n",
       "      <td>0.384354</td>\n",
       "      <td>0.939477</td>\n",
       "      <td>9.598414</td>\n",
       "      <td>0.023234</td>\n",
       "      <td>-3.522502</td>\n",
       "    </tr>\n",
       "    <tr>\n",
       "      <th>1</th>\n",
       "      <td>1</td>\n",
       "      <td>2</td>\n",
       "      <td>0.694122</td>\n",
       "      <td>-0.216254</td>\n",
       "      <td>-0.722939</td>\n",
       "      <td>-0.799793</td>\n",
       "      <td>4.461820</td>\n",
       "      <td>0.123427</td>\n",
       "      <td>-1.155988</td>\n",
       "    </tr>\n",
       "    <tr>\n",
       "      <th>2</th>\n",
       "      <td>1</td>\n",
       "      <td>3</td>\n",
       "      <td>0.735914</td>\n",
       "      <td>1.253992</td>\n",
       "      <td>-0.081649</td>\n",
       "      <td>-4.141256</td>\n",
       "      <td>4.102643</td>\n",
       "      <td>0.351695</td>\n",
       "      <td>-0.091834</td>\n",
       "    </tr>\n",
       "    <tr>\n",
       "      <th>3</th>\n",
       "      <td>1</td>\n",
       "      <td>4</td>\n",
       "      <td>0.463516</td>\n",
       "      <td>0.837984</td>\n",
       "      <td>0.029783</td>\n",
       "      <td>-0.729556</td>\n",
       "      <td>6.409928</td>\n",
       "      <td>0.030967</td>\n",
       "      <td>-2.702702</td>\n",
       "    </tr>\n",
       "    <tr>\n",
       "      <th>4</th>\n",
       "      <td>1</td>\n",
       "      <td>5</td>\n",
       "      <td>1.432704</td>\n",
       "      <td>0.244462</td>\n",
       "      <td>-0.581879</td>\n",
       "      <td>1.120340</td>\n",
       "      <td>8.041967</td>\n",
       "      <td>0.017626</td>\n",
       "      <td>-3.497162</td>\n",
       "    </tr>\n",
       "    <tr>\n",
       "      <th>...</th>\n",
       "      <td>...</td>\n",
       "      <td>...</td>\n",
       "      <td>...</td>\n",
       "      <td>...</td>\n",
       "      <td>...</td>\n",
       "      <td>...</td>\n",
       "      <td>...</td>\n",
       "      <td>...</td>\n",
       "      <td>...</td>\n",
       "    </tr>\n",
       "    <tr>\n",
       "      <th>995</th>\n",
       "      <td>100</td>\n",
       "      <td>6</td>\n",
       "      <td>0.941778</td>\n",
       "      <td>1.094291</td>\n",
       "      <td>-0.063608</td>\n",
       "      <td>-3.835667</td>\n",
       "      <td>4.294694</td>\n",
       "      <td>0.201615</td>\n",
       "      <td>0.042418</td>\n",
       "    </tr>\n",
       "    <tr>\n",
       "      <th>996</th>\n",
       "      <td>100</td>\n",
       "      <td>7</td>\n",
       "      <td>-0.138649</td>\n",
       "      <td>1.280459</td>\n",
       "      <td>1.153609</td>\n",
       "      <td>0.021677</td>\n",
       "      <td>7.443946</td>\n",
       "      <td>0.006700</td>\n",
       "      <td>-3.519018</td>\n",
       "    </tr>\n",
       "    <tr>\n",
       "      <th>997</th>\n",
       "      <td>100</td>\n",
       "      <td>8</td>\n",
       "      <td>0.965188</td>\n",
       "      <td>0.539170</td>\n",
       "      <td>-0.376338</td>\n",
       "      <td>-1.565662</td>\n",
       "      <td>5.477866</td>\n",
       "      <td>0.047623</td>\n",
       "      <td>-1.421661</td>\n",
       "    </tr>\n",
       "    <tr>\n",
       "      <th>998</th>\n",
       "      <td>100</td>\n",
       "      <td>9</td>\n",
       "      <td>1.176935</td>\n",
       "      <td>1.323688</td>\n",
       "      <td>-1.109272</td>\n",
       "      <td>-1.785444</td>\n",
       "      <td>7.038866</td>\n",
       "      <td>0.007244</td>\n",
       "      <td>-3.402316</td>\n",
       "    </tr>\n",
       "    <tr>\n",
       "      <th>999</th>\n",
       "      <td>100</td>\n",
       "      <td>10</td>\n",
       "      <td>0.906522</td>\n",
       "      <td>1.693413</td>\n",
       "      <td>0.711639</td>\n",
       "      <td>1.170487</td>\n",
       "      <td>10.463835</td>\n",
       "      <td>0.001598</td>\n",
       "      <td>-5.421521</td>\n",
       "    </tr>\n",
       "  </tbody>\n",
       "</table>\n",
       "<p>1000 rows × 9 columns</p>\n",
       "</div>"
      ],
      "text/plain": [
       "       t   j         x         z        xi       eta      price  true_share  \\\n",
       "0      1   1  1.812173  0.923382  0.384354  0.939477   9.598414    0.023234   \n",
       "1      1   2  0.694122 -0.216254 -0.722939 -0.799793   4.461820    0.123427   \n",
       "2      1   3  0.735914  1.253992 -0.081649 -4.141256   4.102643    0.351695   \n",
       "3      1   4  0.463516  0.837984  0.029783 -0.729556   6.409928    0.030967   \n",
       "4      1   5  1.432704  0.244462 -0.581879  1.120340   8.041967    0.017626   \n",
       "..   ...  ..       ...       ...       ...       ...        ...         ...   \n",
       "995  100   6  0.941778  1.094291 -0.063608 -3.835667   4.294694    0.201615   \n",
       "996  100   7 -0.138649  1.280459  1.153609  0.021677   7.443946    0.006700   \n",
       "997  100   8  0.965188  0.539170 -0.376338 -1.565662   5.477866    0.047623   \n",
       "998  100   9  1.176935  1.323688 -1.109272 -1.785444   7.038866    0.007244   \n",
       "999  100  10  0.906522  1.693413  0.711639  1.170487  10.463835    0.001598   \n",
       "\n",
       "     true_delta  \n",
       "0     -3.522502  \n",
       "1     -1.155988  \n",
       "2     -0.091834  \n",
       "3     -2.702702  \n",
       "4     -3.497162  \n",
       "..          ...  \n",
       "995    0.042418  \n",
       "996   -3.519018  \n",
       "997   -1.421661  \n",
       "998   -3.402316  \n",
       "999   -5.421521  \n",
       "\n",
       "[1000 rows x 9 columns]"
      ]
     },
     "execution_count": 342,
     "metadata": {},
     "output_type": "execute_result"
    }
   ],
   "source": [
    "df_master"
   ]
  },
  {
   "cell_type": "code",
   "execution_count": 343,
   "metadata": {},
   "outputs": [
    {
     "data": {
      "image/png": "[encoded data removed]",
      "text/plain": [
       "<Figure size 432x288 with 1 Axes>"
      ]
     },
     "metadata": {
      "needs_background": "light"
     },
     "output_type": "display_data"
    }
   ],
   "source": [
    "# df_master['true_share'] = true_share_list\n",
    "# plt.hist(df_master.groupby('t')['true_share'].sum())\n",
    "\n",
    "sns.histplot(df_master.groupby('t')['true_share'].sum(), color = 'c')\n",
    "plt.title(\"histogram of inner share\")\n",
    "plt.show()"
   ]
  },
  {
   "cell_type": "code",
   "execution_count": 309,
   "metadata": {},
   "outputs": [
    {
     "data": {
      "image/png": "[encoded data removed]",
      "text/plain": [
       "<Figure size 432x288 with 1 Axes>"
      ]
     },
     "metadata": {
      "needs_background": "light"
     },
     "output_type": "display_data"
    }
   ],
   "source": [
    "sns.scatterplot(x = df_master['z'], y = df_master['true_share'])\n",
    "plt.title(\"share across cost shifter\")\n",
    "plt.show()"
   ]
  },
  {
   "cell_type": "code",
   "execution_count": 313,
   "metadata": {},
   "outputs": [
    {
     "data": {
      "image/png": "[encoded data removed]",
      "text/plain": [
       "<Figure size 432x288 with 1 Axes>"
      ]
     },
     "metadata": {
      "needs_background": "light"
     },
     "output_type": "display_data"
    }
   ],
   "source": [
    "sns.scatterplot(x = df_master['price'], y = df_master['true_delta'])\n",
    "plt.title(\"true delta across price\")\n",
    "plt.show()"
   ]
  },
  {
   "cell_type": "code",
   "execution_count": 282,
   "metadata": {},
   "outputs": [
    {
     "data": {
      "image/png": "[encoded data removed]",
      "text/plain": [
       "<Figure size 432x288 with 1 Axes>"
      ]
     },
     "metadata": {
      "needs_background": "light"
     },
     "output_type": "display_data"
    }
   ],
   "source": [
    "sns.scatterplot(x = df_master['x'], y = df_master['true_share'])\n",
    "plt.title(\"share across characteristics\")\n",
    "plt.show()"
   ]
  },
  {
   "cell_type": "code",
   "execution_count": 344,
   "metadata": {},
   "outputs": [
    {
     "data": {
      "text/html": [
       "<table class=\"simpletable\">\n",
       "<caption>OLS Regression Results</caption>\n",
       "<tr>\n",
       "  <th>Dep. Variable:</th>       <td>true_delta</td>    <th>  R-squared:         </th>  <td>   1.000</td> \n",
       "</tr>\n",
       "<tr>\n",
       "  <th>Model:</th>                   <td>OLS</td>       <th>  Adj. R-squared:    </th>  <td>   1.000</td> \n",
       "</tr>\n",
       "<tr>\n",
       "  <th>Method:</th>             <td>Least Squares</td>  <th>  F-statistic:       </th>  <td>6.603e+31</td>\n",
       "</tr>\n",
       "<tr>\n",
       "  <th>Date:</th>             <td>Tue, 28 Feb 2023</td> <th>  Prob (F-statistic):</th>   <td>  0.00</td>  \n",
       "</tr>\n",
       "<tr>\n",
       "  <th>Time:</th>                 <td>14:17:40</td>     <th>  Log-Likelihood:    </th>  <td>  31477.</td> \n",
       "</tr>\n",
       "<tr>\n",
       "  <th>No. Observations:</th>      <td>  1000</td>      <th>  AIC:               </th> <td>-6.295e+04</td>\n",
       "</tr>\n",
       "<tr>\n",
       "  <th>Df Residuals:</th>          <td>   996</td>      <th>  BIC:               </th> <td>-6.293e+04</td>\n",
       "</tr>\n",
       "<tr>\n",
       "  <th>Df Model:</th>              <td>     3</td>      <th>                     </th>      <td> </td>    \n",
       "</tr>\n",
       "<tr>\n",
       "  <th>Covariance Type:</th>      <td>nonrobust</td>    <th>                     </th>      <td> </td>    \n",
       "</tr>\n",
       "</table>\n",
       "<table class=\"simpletable\">\n",
       "<tr>\n",
       "      <td></td>        <th>coef</th>     <th>std err</th>      <th>t</th>      <th>P>|t|</th>  <th>[0.025</th>    <th>0.975]</th>  \n",
       "</tr>\n",
       "<tr>\n",
       "  <th>constant</th> <td>    3.0000</td> <td> 6.22e-16</td> <td> 4.82e+15</td> <td> 0.000</td> <td>    3.000</td> <td>    3.000</td>\n",
       "</tr>\n",
       "<tr>\n",
       "  <th>x</th>        <td>    1.5000</td> <td> 3.46e-16</td> <td> 4.33e+15</td> <td> 0.000</td> <td>    1.500</td> <td>    1.500</td>\n",
       "</tr>\n",
       "<tr>\n",
       "  <th>price</th>    <td>   -1.0028</td> <td> 7.32e-17</td> <td>-1.37e+16</td> <td> 0.000</td> <td>   -1.003</td> <td>   -1.003</td>\n",
       "</tr>\n",
       "<tr>\n",
       "  <th>xi</th>       <td>    1.0000</td> <td> 1.71e-16</td> <td> 5.84e+15</td> <td> 0.000</td> <td>    1.000</td> <td>    1.000</td>\n",
       "</tr>\n",
       "</table>\n",
       "<table class=\"simpletable\">\n",
       "<tr>\n",
       "  <th>Omnibus:</th>       <td>24.127</td> <th>  Durbin-Watson:     </th> <td>   0.090</td>\n",
       "</tr>\n",
       "<tr>\n",
       "  <th>Prob(Omnibus):</th> <td> 0.000</td> <th>  Jarque-Bera (JB):  </th> <td>  25.291</td>\n",
       "</tr>\n",
       "<tr>\n",
       "  <th>Skew:</th>          <td> 0.386</td> <th>  Prob(JB):          </th> <td>3.22e-06</td>\n",
       "</tr>\n",
       "<tr>\n",
       "  <th>Kurtosis:</th>      <td> 3.098</td> <th>  Cond. No.          </th> <td>    33.1</td>\n",
       "</tr>\n",
       "</table><br/><br/>Notes:<br/>[1] Standard Errors assume that the covariance matrix of the errors is correctly specified."
      ],
      "text/plain": [
       "<class 'statsmodels.iolib.summary.Summary'>\n",
       "\"\"\"\n",
       "                            OLS Regression Results                            \n",
       "==============================================================================\n",
       "Dep. Variable:             true_delta   R-squared:                       1.000\n",
       "Model:                            OLS   Adj. R-squared:                  1.000\n",
       "Method:                 Least Squares   F-statistic:                 6.603e+31\n",
       "Date:                Tue, 28 Feb 2023   Prob (F-statistic):               0.00\n",
       "Time:                        14:17:40   Log-Likelihood:                 31477.\n",
       "No. Observations:                1000   AIC:                        -6.295e+04\n",
       "Df Residuals:                     996   BIC:                        -6.293e+04\n",
       "Df Model:                           3                                         \n",
       "Covariance Type:            nonrobust                                         \n",
       "==============================================================================\n",
       "                 coef    std err          t      P>|t|      [0.025      0.975]\n",
       "------------------------------------------------------------------------------\n",
       "constant       3.0000   6.22e-16   4.82e+15      0.000       3.000       3.000\n",
       "x              1.5000   3.46e-16   4.33e+15      0.000       1.500       1.500\n",
       "price         -1.0028   7.32e-17  -1.37e+16      0.000      -1.003      -1.003\n",
       "xi             1.0000   1.71e-16   5.84e+15      0.000       1.000       1.000\n",
       "==============================================================================\n",
       "Omnibus:                       24.127   Durbin-Watson:                   0.090\n",
       "Prob(Omnibus):                  0.000   Jarque-Bera (JB):               25.291\n",
       "Skew:                           0.386   Prob(JB):                     3.22e-06\n",
       "Kurtosis:                       3.098   Cond. No.                         33.1\n",
       "==============================================================================\n",
       "\n",
       "Notes:\n",
       "[1] Standard Errors assume that the covariance matrix of the errors is correctly specified.\n",
       "\"\"\""
      ]
     },
     "execution_count": 344,
     "metadata": {},
     "output_type": "execute_result"
    }
   ],
   "source": [
    "df_master['constant'] = np.ones(1000)\n",
    "ideal_result = sm.OLS(df_master['true_delta'], df_master[['constant', 'x', 'price', 'xi']]).fit()\n",
    "ideal_result.summary()"
   ]
  },
  {
   "cell_type": "markdown",
   "metadata": {},
   "source": [
    "# Part B. GMM estimation"
   ]
  },
  {
   "cell_type": "code",
   "execution_count": 316,
   "metadata": {},
   "outputs": [],
   "source": [
    "df_observable = df_master"
   ]
  },
  {
   "cell_type": "code",
   "execution_count": 317,
   "metadata": {},
   "outputs": [],
   "source": [
    "# construct IV\n",
    "df_avrg_x = df(df_observable.groupby('t')['x'].mean())\n",
    "df_avrg_z = df(df_observable.groupby('t')['z'].mean())\n",
    "df_avrg_x = df_avrg_x.rename(columns= {\"x\": \"avrg_x\"})\n",
    "df_avrg_z = df_avrg_z.rename(columns= {\"z\": \"avrg_z\"})\n",
    "df_avrg_x = df_avrg_x.reset_index()\n",
    "df_avrg_z = df_avrg_z.reset_index()\n",
    "\n",
    "df_observable = pd.merge(df_observable, df_avrg_x, left_on= \"t\", right_on= \"t\")\n",
    "df_observable = pd.merge(df_observable, df_avrg_z, left_on= \"t\", right_on= \"t\")\n",
    "\n",
    "df_observable['IV2'] = (10*df_observable['avrg_x'] - df_observable['x'])/9\n",
    "df_observable['IV3'] = (10*df_observable['avrg_z'] - df_observable['z'])/9"
   ]
  },
  {
   "cell_type": "code",
   "execution_count": 434,
   "metadata": {},
   "outputs": [],
   "source": [
    "def obj_function(sigma_beta, df_observable):\n",
    "    epsilon = 1e-10\n",
    "\n",
    "    # step 1: compute the fixed point\n",
    "    delta_list = []\n",
    "    for t in range(1, 101):\n",
    "        work_data = df_observable.loc[df_observable['t'] == 100]\n",
    "\n",
    "        # 1. set the initial vector of theta (name it delta_pre)\n",
    "        share_outer = 1 - work_data['true_share'].sum()\n",
    "        #delta_pre = np.log(work_data['true_share'].values / share_outer) \n",
    "        delta_pre = np.log(work_data['true_share'].values) \n",
    "\n",
    "\n",
    "        # 2. update delta by searching for the fixed point\n",
    "        #    calculate model predicted share with MC integration    \n",
    "        # fix the seed for random nu\n",
    "        np.random.seed(3)\n",
    "        nu_draw = np.random.normal(0, 1, 2000)\n",
    "        while True:    \n",
    "            # 2-1. calculate denominator\n",
    "            #nu_draw = np.random.normal(0, 1, 2000)\n",
    "            exp_common = 0\n",
    "            for j in range(10):\n",
    "                delta_j = delta_pre[j]\n",
    "                p_j = work_data['price'].values[j]\n",
    "                exp_j = np.exp(delta_j + sigma_beta*p_j*nu_draw)     ##### sigma beta matters here #####\n",
    "                exp_common += exp_j\n",
    "            denominator_common = 1+ exp_common\n",
    "                \n",
    "            # 2-2. calculate market share for 10 products \n",
    "            share_list_temp = []\n",
    "            for j in range(10):\n",
    "                delta_j = delta_pre[j]\n",
    "                p_j = work_data['price'].values[j]\n",
    "                exp_j = np.exp(delta_j + sigma_beta*p_j*nu_draw)\n",
    "                s_j = (exp_j/denominator_common).mean()\n",
    "                share_list_temp.append(s_j)\n",
    "\n",
    "            # 2-3. update delta\n",
    "            share_list_array = np.array(share_list_temp)\n",
    "            delta_post = delta_pre + np.log(work_data['true_share'].values / share_list_array) \n",
    "\n",
    "            # 3. Break Condition and Update\n",
    "            if abs(delta_post - delta_pre).max() < epsilon:\n",
    "                break\n",
    "            else: \n",
    "                delta_pre = delta_post\n",
    "        \n",
    "        delta_list_temp = list(delta_pre)\n",
    "        delta_list = delta_list + delta_list_temp\n",
    "\n",
    "    df_observable['delta_FXP'] = delta_list\n",
    "    df_observable['delta_error'] = abs(df_observable['true_delta'].values - df_observable['delta_FXP'].values)\n",
    "    good_sample = df_observable.loc[df_observable['delta_error'] <= 0.5]\n",
    "    \n",
    "    #step 2: 2SLS\n",
    "    IV_result = IV2SLS(dependent=good_sample['delta_FXP'],\n",
    "                    exog = good_sample[['constant', 'x']],\n",
    "                    endog = good_sample['price'],\n",
    "                    instruments=good_sample[['z', 'IV2', 'IV3']]).fit()\n",
    "\n",
    "    alpha_0_hat = IV_result.params[0]\n",
    "    alpha_1_hat = IV_result.params[1]\n",
    "    beta_bar_hat = IV_result.params[2]\n",
    "    \n",
    "    IV_result.params\n",
    "    xi_array = (good_sample['delta_FXP'] - alpha_0_hat*good_sample['constant'] - alpha_1_hat*good_sample['x'] - beta_bar_hat*good_sample['price']).values\n",
    "\n",
    "    g1_bar = (xi_array * good_sample['z'].values).mean()\n",
    "    g2_bar = (xi_array * good_sample['IV2'].values).mean()\n",
    "    g3_bar = (xi_array * good_sample['IV3'].values).mean()\n",
    "\n",
    "    return g1_bar**2 + g2_bar**2 + g3_bar**2\n"
   ]
  },
  {
   "cell_type": "code",
   "execution_count": 458,
   "metadata": {},
   "outputs": [
    {
     "name": "stdout",
     "output_type": "stream",
     "text": [
      "Optimization terminated successfully.\n",
      "         Current function value: 0.000126\n",
      "         Iterations: 11\n",
      "         Function evaluations: 23\n"
     ]
    }
   ],
   "source": [
    "GMM_result = minimize(obj_function, 0.3, args = (df_observable), bounds = ((0,2),), method='Nelder-Mead', options={'maxiter':200, 'disp': True})"
   ]
  },
  {
   "cell_type": "code",
   "execution_count": 460,
   "metadata": {},
   "outputs": [
    {
     "name": "stdout",
     "output_type": "stream",
     "text": [
      "alpha_0_hat:  2.4903099207696346\n",
      "alpha_1_hat:  1.4600014144712876\n",
      "beta_bar_hat:  -0.9351165549604872\n",
      "sigma_beta_hat:  0.29859375\n"
     ]
    }
   ],
   "source": [
    "sigma_beta = GMM_result.x[0]\n",
    "epsilon = 1e-10\n",
    "\n",
    "delta_list = []\n",
    "for t in range(1, 101):\n",
    "    work_data = df_observable.loc[df_observable['t'] == 100]\n",
    "\n",
    "    # 1. set the initial vector of theta (name it delta_pre)\n",
    "    share_outer = 1 - work_data['true_share'].sum()\n",
    "    #delta_pre = np.log(work_data['true_share'].values / share_outer) \n",
    "    delta_pre = np.log(work_data['true_share'].values) \n",
    "\n",
    "\n",
    "    # 2. update delta by searching for the fixed point\n",
    "    #    calculate model predicted share with MC integration    \n",
    "    # fix the seed for random nu\n",
    "    np.random.seed(3)\n",
    "    nu_draw = np.random.normal(0, 1, 2000)\n",
    "    while True:    \n",
    "        # 2-1. calculate denominator\n",
    "        #nu_draw = np.random.normal(0, 1, 2000)\n",
    "        exp_common = 0\n",
    "        for j in range(10):\n",
    "            delta_j = delta_pre[j]\n",
    "            p_j = work_data['price'].values[j]\n",
    "            exp_j = np.exp(delta_j + sigma_beta*p_j*nu_draw)     ##### sigma beta matters here #####\n",
    "            exp_common += exp_j\n",
    "        denominator_common = 1+ exp_common\n",
    "            \n",
    "        # 2-2. calculate market share for 10 products \n",
    "        share_list_temp = []\n",
    "        for j in range(10):\n",
    "            delta_j = delta_pre[j]\n",
    "            p_j = work_data['price'].values[j]\n",
    "            exp_j = np.exp(delta_j + sigma_beta*p_j*nu_draw)\n",
    "            s_j = (exp_j/denominator_common).mean()\n",
    "            share_list_temp.append(s_j)\n",
    "\n",
    "        # 2-3. update delta\n",
    "        share_list_array = np.array(share_list_temp)\n",
    "        delta_post = delta_pre + np.log(work_data['true_share'].values / share_list_array) \n",
    "\n",
    "        # 3. Break Condition and Update\n",
    "        if abs(delta_post - delta_pre).max() < epsilon:\n",
    "            break\n",
    "        else: \n",
    "            delta_pre = delta_post\n",
    "    \n",
    "    \n",
    "    delta_list_temp = list(delta_pre)\n",
    "    delta_list = delta_list + delta_list_temp\n",
    "\n",
    "df_observable['delta_FXP'] = delta_list\n",
    "df_observable['delta_error'] = abs(df_observable['true_delta'].values - df_observable['delta_FXP'].values)\n",
    "good_sample = df_observable.loc[df_observable['delta_error'] <= 0.5]\n",
    "\n",
    "#step 2: 2SLS\n",
    "IV_result = IV2SLS(dependent=good_sample['delta_FXP'],\n",
    "                exog = good_sample[['constant', 'x']],\n",
    "                endog = good_sample['price'],\n",
    "                instruments=good_sample[['z', 'IV2', 'IV3']]).fit()\n",
    "\n",
    "alpha_0_hat = IV_result.params[0]\n",
    "alpha_1_hat = IV_result.params[1]\n",
    "beta_bar_hat = IV_result.params[2]\n",
    "\n",
    "\n",
    "print(\"alpha_0_hat: \", alpha_0_hat)\n",
    "print(\"alpha_1_hat: \", alpha_1_hat)\n",
    "print(\"beta_bar_hat: \", beta_bar_hat)\n",
    "print(\"sigma_beta_hat: \", sigma_beta)"
   ]
  },
  {
   "cell_type": "code",
   "execution_count": 464,
   "metadata": {},
   "outputs": [
    {
     "data": {
      "image/png": "[encoded data removed]",
      "text/plain": [
       "<Figure size 432x288 with 1 Axes>"
      ]
     },
     "metadata": {
      "needs_background": "light"
     },
     "output_type": "display_data"
    }
   ],
   "source": [
    "sns.histplot(df_observable['delta_error'])\n",
    "plt.title(\"abs(delta_true - delta_fixed_point)\")\n",
    "plt.show()"
   ]
  }
 ],
 "metadata": {
  "kernelspec": {
   "display_name": "Python 3.9.7 ('base')",
   "language": "python",
   "name": "python3"
  },
  "language_info": {
   "codemirror_mode": {
    "name": "ipython",
    "version": 3
   },
   "file_extension": ".py",
   "mimetype": "text/x-python",
   "name": "python",
   "nbconvert_exporter": "python",
   "pygments_lexer": "ipython3",
   "version": "3.9.7"
  },
  "orig_nbformat": 4,
  "vscode": {
   "interpreter": {
    "hash": "4058ae7d101d4d34f9fe782bbb6316095f0ede2a1a2e6a1564fc2428590ee83d"
   }
  }
 },
 "nbformat": 4,
 "nbformat_minor": 2
}
