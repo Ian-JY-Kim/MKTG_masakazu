{
 "cells": [
  {
   "cell_type": "code",
   "execution_count": 1,
   "metadata": {},
   "outputs": [
    {
     "name": "stderr",
     "output_type": "stream",
     "text": [
      "2023-03-01 21:24:03,295\tINFO worker.py:1538 -- Started a local Ray instance.\n"
     ]
    }
   ],
   "source": [
    "import numpy as np\n",
    "import pandas as pd\n",
    "from pandas import DataFrame as df\n",
    "import random\n",
    "import math\n",
    "import time \n",
    "import matplotlib.pyplot as plt\n",
    "import seaborn as sns\n",
    "from scipy.optimize import minimize\n",
    "from scipy.stats import norm\n",
    "import ray\n",
    "ray.init(num_cpus= 10, ignore_reinit_error=True)\n",
    "from numba import jit"
   ]
  },
  {
   "cell_type": "code",
   "execution_count": 2,
   "metadata": {},
   "outputs": [],
   "source": [
    "from sklearn.linear_model import LinearRegression\n",
    "from linearmodels.iv import IV2SLS\n",
    "import statsmodels.api as sm\n",
    "import linearmodels\n",
    "from statsmodels.iolib.summary2 import summary_col\n",
    "from scipy.optimize import minimize\n"
   ]
  },
  {
   "cell_type": "code",
   "execution_count": 5,
   "metadata": {},
   "outputs": [],
   "source": [
    "# Define True Parameters\n",
    "alpha_0 = 3\n",
    "alpha_1 = 1.5\n",
    "beta_bar = -1\n",
    "sigma_beta = 0.2\n",
    "omega_0 = 5\n",
    "omega_1 = 1\n",
    "omega_2 = 2\n",
    "sigma_xi = 1\n",
    "sigma_xieta = 0.5\n",
    "sigma_eta = 2"
   ]
  },
  {
   "cell_type": "markdown",
   "metadata": {},
   "source": [
    "# Part A. Simulate Data"
   ]
  },
  {
   "cell_type": "code",
   "execution_count": 6,
   "metadata": {},
   "outputs": [],
   "source": [
    "# panel frame t X j\n",
    "t_list = []\n",
    "j_list = []\n",
    "for i in range(1,101):\n",
    "    t_temp = list(np.full(10,i))\n",
    "    j_temp = [k for k in range(1,11)]\n",
    "    t_list = t_list + t_temp\n",
    "    j_list = j_list + j_temp"
   ]
  },
  {
   "cell_type": "code",
   "execution_count": 7,
   "metadata": {},
   "outputs": [],
   "source": [
    "# (1) random draw part\n",
    "# fix the seed to allow replication\n",
    "np.random.seed(1)\n",
    "\n",
    "# draw x\n",
    "x_list = np.random.normal(1, 0.5, 1000)\n",
    "\n",
    "# draw z\n",
    "z_list = np.random.normal(1, 0.5, 1000)\n",
    "\n",
    "# draw xi & eta\n",
    "xieta_mean = (0, 0)\n",
    "xieta_cov = [[sigma_xi**2, sigma_xieta], [sigma_xieta, sigma_eta**2]]\n",
    "xi_list, eta_list = np.random.multivariate_normal(xieta_mean, xieta_cov, 1000).T\n",
    "\n",
    "# construct a dataframe\n",
    "df_master = df({\"t\": t_list, \"j\": j_list, \"x\": x_list, \"z\": z_list, \"xi\": xi_list, \"eta\": eta_list})"
   ]
  },
  {
   "cell_type": "code",
   "execution_count": 8,
   "metadata": {},
   "outputs": [],
   "source": [
    "# (2) calculation part\n",
    "# calculate price\n",
    "df_master['price'] = omega_0 + omega_1*df_master['x'].values + omega_2*df_master['z'].values + df_master['eta'].values"
   ]
  },
  {
   "cell_type": "code",
   "execution_count": 42,
   "metadata": {},
   "outputs": [],
   "source": [
    "# calculate share\n",
    "# fix the random draw of nu\n",
    "np.random.seed(2)\n",
    "nu_perseon_1000 = np.random.normal(0,1,1000)\n",
    "\n",
    "# for each market t, calculate true share of each product j\n",
    "#                  , to check the validity of delta_FXP, calculate the value of true delta too\n",
    "true_share_list = []\n",
    "true_delta_list = []\n",
    "for t in range(1,101):\n",
    "    work_data = df_master.loc[df_master['t']==t]\n",
    "\n",
    "    exp_list = []\n",
    "    exp_sum = 0\n",
    "    delta_list_temp = []\n",
    "    for k in range(10):\n",
    "        x_k = work_data['x'].values[k]\n",
    "        p_k = work_data['price'].values[k]\n",
    "        xi_k = work_data['xi'].values[k]\n",
    "        u_k_true = alpha_0 + alpha_1*x_k + beta_bar*p_k + xi_k + sigma_beta*p_k*nu_perseon_1000\n",
    "        delta_k_true = alpha_0 + alpha_1*x_k + beta_bar*p_k + xi_k\n",
    "        \n",
    "        exp_list.append(np.exp(u_k_true))\n",
    "        exp_sum += np.exp(u_k_true)\n",
    "        delta_list_temp.append(delta_k_true)\n",
    "\n",
    "    denominator = 1+exp_sum\n",
    "    share_list_temp = [(exp_list[j]/denominator).mean() for j in range(10)]\n",
    "    true_share_list = true_share_list + share_list_temp\n",
    "    true_delta_list = true_delta_list + delta_list_temp\n",
    "\n",
    "df_master['true_share'] = true_share_list\n",
    "df_master['true_delta'] = true_delta_list"
   ]
  },
  {
   "cell_type": "code",
   "execution_count": 44,
   "metadata": {},
   "outputs": [
    {
     "data": {
      "text/html": [
       "<table class=\"simpletable\">\n",
       "<caption>OLS Regression Results</caption>\n",
       "<tr>\n",
       "  <th>Dep. Variable:</th>       <td>true_delta</td>    <th>  R-squared:         </th>  <td>   1.000</td> \n",
       "</tr>\n",
       "<tr>\n",
       "  <th>Model:</th>                   <td>OLS</td>       <th>  Adj. R-squared:    </th>  <td>   1.000</td> \n",
       "</tr>\n",
       "<tr>\n",
       "  <th>Method:</th>             <td>Least Squares</td>  <th>  F-statistic:       </th>  <td>2.216e+32</td>\n",
       "</tr>\n",
       "<tr>\n",
       "  <th>Date:</th>             <td>Wed, 01 Mar 2023</td> <th>  Prob (F-statistic):</th>   <td>  0.00</td>  \n",
       "</tr>\n",
       "<tr>\n",
       "  <th>Time:</th>                 <td>21:48:47</td>     <th>  Log-Likelihood:    </th>  <td>  32085.</td> \n",
       "</tr>\n",
       "<tr>\n",
       "  <th>No. Observations:</th>      <td>  1000</td>      <th>  AIC:               </th> <td>-6.416e+04</td>\n",
       "</tr>\n",
       "<tr>\n",
       "  <th>Df Residuals:</th>          <td>   996</td>      <th>  BIC:               </th> <td>-6.414e+04</td>\n",
       "</tr>\n",
       "<tr>\n",
       "  <th>Df Model:</th>              <td>     3</td>      <th>                     </th>      <td> </td>    \n",
       "</tr>\n",
       "<tr>\n",
       "  <th>Covariance Type:</th>      <td>nonrobust</td>    <th>                     </th>      <td> </td>    \n",
       "</tr>\n",
       "</table>\n",
       "<table class=\"simpletable\">\n",
       "<tr>\n",
       "      <td></td>        <th>coef</th>     <th>std err</th>      <th>t</th>      <th>P>|t|</th>  <th>[0.025</th>    <th>0.975]</th>  \n",
       "</tr>\n",
       "<tr>\n",
       "  <th>constant</th> <td>    3.0000</td> <td> 3.39e-16</td> <td> 8.85e+15</td> <td> 0.000</td> <td>    3.000</td> <td>    3.000</td>\n",
       "</tr>\n",
       "<tr>\n",
       "  <th>x</th>        <td>    1.5000</td> <td> 1.89e-16</td> <td> 7.95e+15</td> <td> 0.000</td> <td>    1.500</td> <td>    1.500</td>\n",
       "</tr>\n",
       "<tr>\n",
       "  <th>price</th>    <td>   -1.0000</td> <td> 3.99e-17</td> <td>-2.51e+16</td> <td> 0.000</td> <td>   -1.000</td> <td>   -1.000</td>\n",
       "</tr>\n",
       "<tr>\n",
       "  <th>xi</th>       <td>    1.0000</td> <td> 9.32e-17</td> <td> 1.07e+16</td> <td> 0.000</td> <td>    1.000</td> <td>    1.000</td>\n",
       "</tr>\n",
       "</table>\n",
       "<table class=\"simpletable\">\n",
       "<tr>\n",
       "  <th>Omnibus:</th>       <td> 3.086</td> <th>  Durbin-Watson:     </th> <td>   0.280</td>\n",
       "</tr>\n",
       "<tr>\n",
       "  <th>Prob(Omnibus):</th> <td> 0.214</td> <th>  Jarque-Bera (JB):  </th> <td>   3.042</td>\n",
       "</tr>\n",
       "<tr>\n",
       "  <th>Skew:</th>          <td> 0.135</td> <th>  Prob(JB):          </th> <td>   0.218</td>\n",
       "</tr>\n",
       "<tr>\n",
       "  <th>Kurtosis:</th>      <td> 3.009</td> <th>  Cond. No.          </th> <td>    33.1</td>\n",
       "</tr>\n",
       "</table><br/><br/>Notes:<br/>[1] Standard Errors assume that the covariance matrix of the errors is correctly specified."
      ],
      "text/plain": [
       "<class 'statsmodels.iolib.summary.Summary'>\n",
       "\"\"\"\n",
       "                            OLS Regression Results                            \n",
       "==============================================================================\n",
       "Dep. Variable:             true_delta   R-squared:                       1.000\n",
       "Model:                            OLS   Adj. R-squared:                  1.000\n",
       "Method:                 Least Squares   F-statistic:                 2.216e+32\n",
       "Date:                Wed, 01 Mar 2023   Prob (F-statistic):               0.00\n",
       "Time:                        21:48:47   Log-Likelihood:                 32085.\n",
       "No. Observations:                1000   AIC:                        -6.416e+04\n",
       "Df Residuals:                     996   BIC:                        -6.414e+04\n",
       "Df Model:                           3                                         \n",
       "Covariance Type:            nonrobust                                         \n",
       "==============================================================================\n",
       "                 coef    std err          t      P>|t|      [0.025      0.975]\n",
       "------------------------------------------------------------------------------\n",
       "constant       3.0000   3.39e-16   8.85e+15      0.000       3.000       3.000\n",
       "x              1.5000   1.89e-16   7.95e+15      0.000       1.500       1.500\n",
       "price         -1.0000   3.99e-17  -2.51e+16      0.000      -1.000      -1.000\n",
       "xi             1.0000   9.32e-17   1.07e+16      0.000       1.000       1.000\n",
       "==============================================================================\n",
       "Omnibus:                        3.086   Durbin-Watson:                   0.280\n",
       "Prob(Omnibus):                  0.214   Jarque-Bera (JB):                3.042\n",
       "Skew:                           0.135   Prob(JB):                        0.218\n",
       "Kurtosis:                       3.009   Cond. No.                         33.1\n",
       "==============================================================================\n",
       "\n",
       "Notes:\n",
       "[1] Standard Errors assume that the covariance matrix of the errors is correctly specified.\n",
       "\"\"\""
      ]
     },
     "execution_count": 44,
     "metadata": {},
     "output_type": "execute_result"
    }
   ],
   "source": [
    "df_master['constant'] = np.ones(1000)\n",
    "ideal_result = sm.OLS(df_master['true_delta'], df_master[['constant', 'x', 'price', 'xi']]).fit()\n",
    "ideal_result.summary()"
   ]
  },
  {
   "cell_type": "markdown",
   "metadata": {},
   "source": [
    "# Part B. GMM estimation"
   ]
  },
  {
   "cell_type": "code",
   "execution_count": 52,
   "metadata": {},
   "outputs": [],
   "source": [
    "# construct IV\n",
    "df_avrg_x = df(df_master.groupby('t')['x'].mean())\n",
    "df_avrg_z = df(df_master.groupby('t')['z'].mean())\n",
    "df_avrg_x = df_avrg_x.rename(columns= {\"x\": \"avrg_x\"})\n",
    "df_avrg_z = df_avrg_z.rename(columns= {\"z\": \"avrg_z\"})\n",
    "df_avrg_x = df_avrg_x.reset_index()\n",
    "df_avrg_z = df_avrg_z.reset_index()\n",
    "\n",
    "df_master = pd.merge(df_master, df_avrg_x, left_on= \"t\", right_on= \"t\")\n",
    "df_master = pd.merge(df_master, df_avrg_z, left_on= \"t\", right_on= \"t\")\n",
    "\n",
    "df_master['IV2'] = (10*df_master['avrg_x'] - df_master['x'])/9\n",
    "df_master['IV3'] = (10*df_master['avrg_z'] - df_master['z'])/9"
   ]
  },
  {
   "cell_type": "code",
   "execution_count": 70,
   "metadata": {},
   "outputs": [],
   "source": [
    "def obj_function(sigma_beta, df_observable):\n",
    "\n",
    "    epsilon = 1e-14\n",
    "    delta_list = []\n",
    "    for t in range(1, 101):\n",
    "        work_data = df_master.loc[df_master['t'] == t]\n",
    "\n",
    "        # 1. set the initial vector of theta (name it delta_pre)\n",
    "        share_outer = 1 - work_data['true_share'].sum()\n",
    "        delta_pre = np.log(work_data['true_share'].values / share_outer) \n",
    "        \n",
    "        # 2. update delta by searching for the fixed point\n",
    "        #    calculate model predicted share with MC integration    \n",
    "        # fix the seed for random nu\n",
    "        np.random.seed(3)\n",
    "        nu_draw = np.random.normal(0, 1, 200)\n",
    "        while True:    \n",
    "            # 2-1. calculate denominator\n",
    "            exp_common = 0\n",
    "            for j in range(10):\n",
    "                delta_j = delta_pre[j]\n",
    "                p_j = work_data['price'].values[j]\n",
    "                exp_j = np.exp(delta_j + sigma_beta*p_j*nu_draw)     ##### sigma beta matters here #####\n",
    "                exp_common += exp_j\n",
    "            denominator_common = 1+ exp_common\n",
    "                \n",
    "            # 2-2. calculate market share for 10 products \n",
    "            share_list_temp = []\n",
    "            for j in range(10):\n",
    "                delta_j = delta_pre[j]\n",
    "                p_j = work_data['price'].values[j]\n",
    "                exp_j = np.exp(delta_j + sigma_beta*p_j*nu_draw)\n",
    "                s_j = (exp_j/denominator_common).mean()\n",
    "                share_list_temp.append(s_j)\n",
    "\n",
    "            # 2-3. update delta\n",
    "            share_list_array = np.array(share_list_temp)\n",
    "            delta_post = delta_pre + np.log(work_data['true_share'].values / share_list_array) \n",
    "\n",
    "            # 3. Break Condition and Update\n",
    "            if (abs(delta_post - delta_pre)).max() < epsilon:\n",
    "                break\n",
    "            else: \n",
    "                delta_pre = delta_post\n",
    "\n",
    "        delta_list_temp = list(delta_pre)\n",
    "        delta_list = delta_list + delta_list_temp\n",
    "    \n",
    "    df_master['delta_FXP'] = delta_list \n",
    "    #step 2: 2SLS\n",
    "    IV_result = IV2SLS(dependent=df_master['delta_FXP'],\n",
    "                    exog = df_master[['constant', 'x']],\n",
    "                    endog = df_master['price'],\n",
    "                    instruments=df_master[['z']]).fit()\n",
    "\n",
    "    alpha_0_hat = IV_result.params[0]\n",
    "    alpha_1_hat = IV_result.params[1]\n",
    "    beta_bar_hat = IV_result.params[2]\n",
    "    \n",
    "    xi_array = (df_master['delta_FXP'] - alpha_0_hat*df_master['constant'] - alpha_1_hat*df_master['x'] - beta_bar_hat*df_master['price']).values\n",
    "\n",
    "    #step 3: GMM\n",
    "    g1_bar = ((xi_array * df_master['z'].values)**2).mean()\n",
    "    g2_bar = ((xi_array * df_master['IV2'].values)**2).mean()\n",
    "    g3_bar = ((xi_array * df_master['IV3'].values)**2).mean()\n",
    "\n",
    "    return g1_bar + g2_bar + g3_bar"
   ]
  },
  {
   "cell_type": "code",
   "execution_count": 75,
   "metadata": {},
   "outputs": [
    {
     "name": "stdout",
     "output_type": "stream",
     "text": [
      "Optimization terminated successfully.\n",
      "         Current function value: 3.273593\n",
      "         Iterations: 15\n",
      "         Function evaluations: 30\n"
     ]
    }
   ],
   "source": [
    "GMM_result = minimize(obj_function, 0.5, args = (df_master), bounds = ((0,2),), method='Nelder-Mead', options={'maxiter':200, 'disp': True})"
   ]
  },
  {
   "cell_type": "code",
   "execution_count": 76,
   "metadata": {},
   "outputs": [
    {
     "data": {
      "text/plain": [
       "array([0.17919922])"
      ]
     },
     "execution_count": 76,
     "metadata": {},
     "output_type": "execute_result"
    }
   ],
   "source": [
    "GMM_result.x"
   ]
  },
  {
   "cell_type": "code",
   "execution_count": 77,
   "metadata": {},
   "outputs": [
    {
     "name": "stdout",
     "output_type": "stream",
     "text": [
      "alpha_0_hat:  2.7335330462987812\n",
      "alpha_1_hat:  1.564694794031908\n",
      "beta_bar_hat:  -0.9730532888677441\n",
      "sigma_beta_hat:  0.17919921874999972\n"
     ]
    }
   ],
   "source": [
    "sigma_beta = GMM_result.x[0]\n",
    "epsilon = 1e-10\n",
    "\n",
    "delta_list = []\n",
    "for t in range(1, 101):\n",
    "    work_data = df_master.loc[df_master['t'] == t]\n",
    "\n",
    "    # 1. set the initial vector of theta (name it delta_pre)\n",
    "    share_outer = 1 - work_data['true_share'].sum()\n",
    "    #delta_pre = np.log(work_data['true_share'].values / share_outer) \n",
    "    delta_pre = np.log(work_data['true_share'].values) \n",
    "\n",
    "\n",
    "    # 2. update delta by searching for the fixed point\n",
    "    #    calculate model predicted share with MC integration    \n",
    "    # fix the seed for random nu\n",
    "    np.random.seed(3)\n",
    "    nu_draw = np.random.normal(0, 1, 2000)\n",
    "    while True:    \n",
    "        # 2-1. calculate denominator\n",
    "        #nu_draw = np.random.normal(0, 1, 2000)\n",
    "        exp_common = 0\n",
    "        for j in range(10):\n",
    "            delta_j = delta_pre[j]\n",
    "            p_j = work_data['price'].values[j]\n",
    "            exp_j = np.exp(delta_j + sigma_beta*p_j*nu_draw)     ##### sigma beta matters here #####\n",
    "            exp_common += exp_j\n",
    "        denominator_common = 1+ exp_common\n",
    "            \n",
    "        # 2-2. calculate market share for 10 products \n",
    "        share_list_temp = []\n",
    "        for j in range(10):\n",
    "            delta_j = delta_pre[j]\n",
    "            p_j = work_data['price'].values[j]\n",
    "            exp_j = np.exp(delta_j + sigma_beta*p_j*nu_draw)\n",
    "            s_j = (exp_j/denominator_common).mean()\n",
    "            share_list_temp.append(s_j)\n",
    "\n",
    "        # 2-3. update delta\n",
    "        share_list_array = np.array(share_list_temp)\n",
    "        delta_post = delta_pre + np.log(work_data['true_share'].values / share_list_array) \n",
    "\n",
    "        # 3. Break Condition and Update\n",
    "        if abs(delta_post - delta_pre).max() < epsilon:\n",
    "            break\n",
    "        else: \n",
    "            delta_pre = delta_post\n",
    "    \n",
    "    \n",
    "    delta_list_temp = list(delta_pre)\n",
    "    delta_list = delta_list + delta_list_temp\n",
    "\n",
    "df_master['delta_FXP'] = delta_list\n",
    "\n",
    "#step 2: 2SLS\n",
    "IV_result = IV2SLS(dependent=df_master['delta_FXP'],\n",
    "                exog = df_master[['constant', 'x']],\n",
    "                endog = df_master['price'],\n",
    "                instruments=df_master[['z', 'IV2', 'IV3']]).fit()\n",
    "\n",
    "alpha_0_hat = IV_result.params[0]\n",
    "alpha_1_hat = IV_result.params[1]\n",
    "beta_bar_hat = IV_result.params[2]\n",
    "\n",
    "\n",
    "print(\"alpha_0_hat: \", alpha_0_hat)\n",
    "print(\"alpha_1_hat: \", alpha_1_hat)\n",
    "print(\"beta_bar_hat: \", beta_bar_hat)\n",
    "print(\"sigma_beta_hat: \", sigma_beta)"
   ]
  }
 ],
 "metadata": {
  "kernelspec": {
   "display_name": "Python 3.9.7 ('base')",
   "language": "python",
   "name": "python3"
  },
  "language_info": {
   "codemirror_mode": {
    "name": "ipython",
    "version": 3
   },
   "file_extension": ".py",
   "mimetype": "text/x-python",
   "name": "python",
   "nbconvert_exporter": "python",
   "pygments_lexer": "ipython3",
   "version": "3.9.7"
  },
  "orig_nbformat": 4,
  "vscode": {
   "interpreter": {
    "hash": "4058ae7d101d4d34f9fe782bbb6316095f0ede2a1a2e6a1564fc2428590ee83d"
   }
  }
 },
 "nbformat": 4,
 "nbformat_minor": 2
}
