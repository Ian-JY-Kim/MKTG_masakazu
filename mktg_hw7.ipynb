{
 "cells": [
  {
   "cell_type": "code",
   "execution_count": 1,
   "metadata": {},
   "outputs": [
    {
     "name": "stderr",
     "output_type": "stream",
     "text": [
      "2023-04-04 14:04:17,437\tINFO worker.py:1538 -- Started a local Ray instance.\n"
     ]
    },
    {
     "data": {
      "text/html": [
       "<div>\n",
       "    <div style=\"margin-left: 50px;display: flex;flex-direction: row;align-items: center\">\n",
       "        <h3 style=\"color: var(--jp-ui-font-color0)\">Ray</h3>\n",
       "        <svg version=\"1.1\" id=\"ray\" width=\"3em\" viewBox=\"0 0 144.5 144.6\" style=\"margin-left: 3em;margin-right: 3em\">\n",
       "            <g id=\"layer-1\">\n",
       "                <path fill=\"#00a2e9\" class=\"st0\" d=\"M97.3,77.2c-3.8-1.1-6.2,0.9-8.3,5.1c-3.5,6.8-9.9,9.9-17.4,9.6S58,88.1,54.8,81.2c-1.4-3-3-4-6.3-4.1\n",
       "                    c-5.6-0.1-9.9,0.1-13.1,6.4c-3.8,7.6-13.6,10.2-21.8,7.6C5.2,88.4-0.4,80.5,0,71.7c0.1-8.4,5.7-15.8,13.8-18.2\n",
       "                    c8.4-2.6,17.5,0.7,22.3,8c1.3,1.9,1.3,5.2,3.6,5.6c3.9,0.6,8,0.2,12,0.2c1.8,0,1.9-1.6,2.4-2.8c3.5-7.8,9.7-11.8,18-11.9\n",
       "                    c8.2-0.1,14.4,3.9,17.8,11.4c1.3,2.8,2.9,3.6,5.7,3.3c1-0.1,2,0.1,3,0c2.8-0.5,6.4,1.7,8.1-2.7s-2.3-5.5-4.1-7.5\n",
       "                    c-5.1-5.7-10.9-10.8-16.1-16.3C84,38,81.9,37.1,78,38.3C66.7,42,56.2,35.7,53,24.1C50.3,14,57.3,2.8,67.7,0.5\n",
       "                    C78.4-2,89,4.7,91.5,15.3c0.1,0.3,0.1,0.5,0.2,0.8c0.7,3.4,0.7,6.9-0.8,9.8c-1.7,3.2-0.8,5,1.5,7.2c6.7,6.5,13.3,13,19.8,19.7\n",
       "                    c1.8,1.8,3,2.1,5.5,1.2c9.1-3.4,17.9-0.6,23.4,7c4.8,6.9,4.6,16.1-0.4,22.9c-5.4,7.2-14.2,9.9-23.1,6.5c-2.3-0.9-3.5-0.6-5.1,1.1\n",
       "                    c-6.7,6.9-13.6,13.7-20.5,20.4c-1.8,1.8-2.5,3.2-1.4,5.9c3.5,8.7,0.3,18.6-7.7,23.6c-7.9,5-18.2,3.8-24.8-2.9\n",
       "                    c-6.4-6.4-7.4-16.2-2.5-24.3c4.9-7.8,14.5-11,23.1-7.8c3,1.1,4.7,0.5,6.9-1.7C91.7,98.4,98,92.3,104.2,86c1.6-1.6,4.1-2.7,2.6-6.2\n",
       "                    c-1.4-3.3-3.8-2.5-6.2-2.6C99.8,77.2,98.9,77.2,97.3,77.2z M72.1,29.7c5.5,0.1,9.9-4.3,10-9.8c0-0.1,0-0.2,0-0.3\n",
       "                    C81.8,14,77,9.8,71.5,10.2c-5,0.3-9,4.2-9.3,9.2c-0.2,5.5,4,10.1,9.5,10.3C71.8,29.7,72,29.7,72.1,29.7z M72.3,62.3\n",
       "                    c-5.4-0.1-9.9,4.2-10.1,9.7c0,0.2,0,0.3,0,0.5c0.2,5.4,4.5,9.7,9.9,10c5.1,0.1,9.9-4.7,10.1-9.8c0.2-5.5-4-10-9.5-10.3\n",
       "                    C72.6,62.3,72.4,62.3,72.3,62.3z M115,72.5c0.1,5.4,4.5,9.7,9.8,9.9c5.6-0.2,10-4.8,10-10.4c-0.2-5.4-4.6-9.7-10-9.7\n",
       "                    c-5.3-0.1-9.8,4.2-9.9,9.5C115,72.1,115,72.3,115,72.5z M19.5,62.3c-5.4,0.1-9.8,4.4-10,9.8c-0.1,5.1,5.2,10.4,10.2,10.3\n",
       "                    c5.6-0.2,10-4.9,9.8-10.5c-0.1-5.4-4.5-9.7-9.9-9.6C19.6,62.3,19.5,62.3,19.5,62.3z M71.8,134.6c5.9,0.2,10.3-3.9,10.4-9.6\n",
       "                    c0.5-5.5-3.6-10.4-9.1-10.8c-5.5-0.5-10.4,3.6-10.8,9.1c0,0.5,0,0.9,0,1.4c-0.2,5.3,4,9.8,9.3,10\n",
       "                    C71.6,134.6,71.7,134.6,71.8,134.6z\"/>\n",
       "            </g>\n",
       "        </svg>\n",
       "        <table>\n",
       "            <tr>\n",
       "                <td style=\"text-align: left\"><b>Python version:</b></td>\n",
       "                <td style=\"text-align: left\"><b>3.9.7</b></td>\n",
       "            </tr>\n",
       "            <tr>\n",
       "                <td style=\"text-align: left\"><b>Ray version:</b></td>\n",
       "                <td style=\"text-align: left\"><b> 2.2.0</b></td>\n",
       "            </tr>\n",
       "            \n",
       "        </table>\n",
       "    </div>\n",
       "</div>\n"
      ],
      "text/plain": [
       "RayContext(dashboard_url='', python_version='3.9.7', ray_version='2.2.0', ray_commit='b6af0887ee5f2e460202133791ad941a41f15beb', address_info={'node_ip_address': '127.0.0.1', 'raylet_ip_address': '127.0.0.1', 'redis_address': None, 'object_store_address': '/tmp/ray/session_2023-04-04_14-04-14_929166_14757/sockets/plasma_store', 'raylet_socket_name': '/tmp/ray/session_2023-04-04_14-04-14_929166_14757/sockets/raylet', 'webui_url': '', 'session_dir': '/tmp/ray/session_2023-04-04_14-04-14_929166_14757', 'metrics_export_port': 59720, 'gcs_address': '127.0.0.1:64701', 'address': '127.0.0.1:64701', 'dashboard_agent_listen_port': 52365, 'node_id': '9489c1872473ba3b257ba3bb8103708d6dcb2a4d6daf95c825ab1edc'})"
      ]
     },
     "execution_count": 1,
     "metadata": {},
     "output_type": "execute_result"
    }
   ],
   "source": [
    "import numpy as np \n",
    "import pandas as pd\n",
    "from pandas import DataFrame as df\n",
    "import random\n",
    "from scipy.stats import norm\n",
    "import matplotlib.pyplot as plt\n",
    "from scipy.optimize import minimize\n",
    "import seaborn as sns\n",
    "import math\n",
    "import ray\n",
    "ray.init(num_cpus= 10, ignore_reinit_error=True)"
   ]
  },
  {
   "cell_type": "code",
   "execution_count": 2,
   "metadata": {},
   "outputs": [
    {
     "data": {
      "text/html": [
       "<div>\n",
       "<style scoped>\n",
       "    .dataframe tbody tr th:only-of-type {\n",
       "        vertical-align: middle;\n",
       "    }\n",
       "\n",
       "    .dataframe tbody tr th {\n",
       "        vertical-align: top;\n",
       "    }\n",
       "\n",
       "    .dataframe thead th {\n",
       "        text-align: right;\n",
       "    }\n",
       "</style>\n",
       "<table border=\"1\" class=\"dataframe\">\n",
       "  <thead>\n",
       "    <tr style=\"text-align: right;\">\n",
       "      <th></th>\n",
       "      <th>county</th>\n",
       "      <th>population</th>\n",
       "      <th>SPC</th>\n",
       "      <th>urban</th>\n",
       "      <th>MidWest</th>\n",
       "      <th>dBenton</th>\n",
       "      <th>southern</th>\n",
       "      <th>Kmart</th>\n",
       "      <th>WalMart</th>\n",
       "      <th>smallstores</th>\n",
       "      <th>dKmart</th>\n",
       "      <th>dWMart</th>\n",
       "      <th>X1</th>\n",
       "      <th>X2</th>\n",
       "      <th>X3</th>\n",
       "      <th>count0</th>\n",
       "      <th>count1</th>\n",
       "      <th>count2</th>\n",
       "      <th>nfirms</th>\n",
       "    </tr>\n",
       "  </thead>\n",
       "  <tbody>\n",
       "    <tr>\n",
       "      <th>0</th>\n",
       "      <td>1.0</td>\n",
       "      <td>3.72</td>\n",
       "      <td>8.62</td>\n",
       "      <td>0.55</td>\n",
       "      <td>0.0</td>\n",
       "      <td>6.23</td>\n",
       "      <td>1.0</td>\n",
       "      <td>1.0</td>\n",
       "      <td>1.0</td>\n",
       "      <td>5.0</td>\n",
       "      <td>0.03</td>\n",
       "      <td>0.03</td>\n",
       "      <td>0.0</td>\n",
       "      <td>0.03</td>\n",
       "      <td>0.14</td>\n",
       "      <td>0</td>\n",
       "      <td>0</td>\n",
       "      <td>1</td>\n",
       "      <td>2</td>\n",
       "    </tr>\n",
       "    <tr>\n",
       "      <th>1</th>\n",
       "      <td>3.0</td>\n",
       "      <td>3.29</td>\n",
       "      <td>8.24</td>\n",
       "      <td>0.29</td>\n",
       "      <td>0.0</td>\n",
       "      <td>6.39</td>\n",
       "      <td>1.0</td>\n",
       "      <td>0.0</td>\n",
       "      <td>1.0</td>\n",
       "      <td>6.0</td>\n",
       "      <td>0.02</td>\n",
       "      <td>0.02</td>\n",
       "      <td>1.0</td>\n",
       "      <td>0.06</td>\n",
       "      <td>0.14</td>\n",
       "      <td>0</td>\n",
       "      <td>1</td>\n",
       "      <td>0</td>\n",
       "      <td>1</td>\n",
       "    </tr>\n",
       "    <tr>\n",
       "      <th>2</th>\n",
       "      <td>4.0</td>\n",
       "      <td>2.93</td>\n",
       "      <td>7.86</td>\n",
       "      <td>0.19</td>\n",
       "      <td>0.0</td>\n",
       "      <td>6.15</td>\n",
       "      <td>1.0</td>\n",
       "      <td>0.0</td>\n",
       "      <td>1.0</td>\n",
       "      <td>1.0</td>\n",
       "      <td>0.09</td>\n",
       "      <td>0.09</td>\n",
       "      <td>1.0</td>\n",
       "      <td>0.05</td>\n",
       "      <td>0.08</td>\n",
       "      <td>0</td>\n",
       "      <td>1</td>\n",
       "      <td>0</td>\n",
       "      <td>1</td>\n",
       "    </tr>\n",
       "    <tr>\n",
       "      <th>3</th>\n",
       "      <td>5.0</td>\n",
       "      <td>3.80</td>\n",
       "      <td>7.94</td>\n",
       "      <td>0.09</td>\n",
       "      <td>0.0</td>\n",
       "      <td>6.14</td>\n",
       "      <td>1.0</td>\n",
       "      <td>0.0</td>\n",
       "      <td>1.0</td>\n",
       "      <td>6.0</td>\n",
       "      <td>0.24</td>\n",
       "      <td>0.26</td>\n",
       "      <td>1.0</td>\n",
       "      <td>0.04</td>\n",
       "      <td>0.02</td>\n",
       "      <td>0</td>\n",
       "      <td>1</td>\n",
       "      <td>0</td>\n",
       "      <td>1</td>\n",
       "    </tr>\n",
       "    <tr>\n",
       "      <th>4</th>\n",
       "      <td>6.0</td>\n",
       "      <td>2.43</td>\n",
       "      <td>7.71</td>\n",
       "      <td>0.35</td>\n",
       "      <td>0.0</td>\n",
       "      <td>6.34</td>\n",
       "      <td>1.0</td>\n",
       "      <td>0.0</td>\n",
       "      <td>0.0</td>\n",
       "      <td>3.0</td>\n",
       "      <td>0.06</td>\n",
       "      <td>0.06</td>\n",
       "      <td>0.0</td>\n",
       "      <td>0.05</td>\n",
       "      <td>0.21</td>\n",
       "      <td>1</td>\n",
       "      <td>0</td>\n",
       "      <td>0</td>\n",
       "      <td>0</td>\n",
       "    </tr>\n",
       "    <tr>\n",
       "      <th>5</th>\n",
       "      <td>7.0</td>\n",
       "      <td>3.08</td>\n",
       "      <td>8.33</td>\n",
       "      <td>0.25</td>\n",
       "      <td>0.0</td>\n",
       "      <td>6.29</td>\n",
       "      <td>1.0</td>\n",
       "      <td>0.0</td>\n",
       "      <td>1.0</td>\n",
       "      <td>6.0</td>\n",
       "      <td>0.02</td>\n",
       "      <td>0.02</td>\n",
       "      <td>1.0</td>\n",
       "      <td>0.02</td>\n",
       "      <td>0.12</td>\n",
       "      <td>0</td>\n",
       "      <td>1</td>\n",
       "      <td>0</td>\n",
       "      <td>1</td>\n",
       "    </tr>\n",
       "    <tr>\n",
       "      <th>6</th>\n",
       "      <td>9.0</td>\n",
       "      <td>3.60</td>\n",
       "      <td>8.21</td>\n",
       "      <td>0.50</td>\n",
       "      <td>0.0</td>\n",
       "      <td>6.32</td>\n",
       "      <td>1.0</td>\n",
       "      <td>0.0</td>\n",
       "      <td>1.0</td>\n",
       "      <td>5.0</td>\n",
       "      <td>0.11</td>\n",
       "      <td>0.11</td>\n",
       "      <td>1.0</td>\n",
       "      <td>0.07</td>\n",
       "      <td>0.19</td>\n",
       "      <td>0</td>\n",
       "      <td>1</td>\n",
       "      <td>0</td>\n",
       "      <td>1</td>\n",
       "    </tr>\n",
       "    <tr>\n",
       "      <th>7</th>\n",
       "      <td>10.0</td>\n",
       "      <td>3.07</td>\n",
       "      <td>8.18</td>\n",
       "      <td>0.00</td>\n",
       "      <td>0.0</td>\n",
       "      <td>6.24</td>\n",
       "      <td>1.0</td>\n",
       "      <td>1.0</td>\n",
       "      <td>0.0</td>\n",
       "      <td>6.0</td>\n",
       "      <td>0.14</td>\n",
       "      <td>0.14</td>\n",
       "      <td>0.0</td>\n",
       "      <td>0.16</td>\n",
       "      <td>0.24</td>\n",
       "      <td>0</td>\n",
       "      <td>1</td>\n",
       "      <td>0</td>\n",
       "      <td>1</td>\n",
       "    </tr>\n",
       "    <tr>\n",
       "      <th>8</th>\n",
       "      <td>11.0</td>\n",
       "      <td>3.59</td>\n",
       "      <td>8.35</td>\n",
       "      <td>0.12</td>\n",
       "      <td>0.0</td>\n",
       "      <td>6.20</td>\n",
       "      <td>1.0</td>\n",
       "      <td>0.0</td>\n",
       "      <td>1.0</td>\n",
       "      <td>7.0</td>\n",
       "      <td>0.03</td>\n",
       "      <td>0.05</td>\n",
       "      <td>1.0</td>\n",
       "      <td>0.07</td>\n",
       "      <td>0.14</td>\n",
       "      <td>0</td>\n",
       "      <td>1</td>\n",
       "      <td>0</td>\n",
       "      <td>1</td>\n",
       "    </tr>\n",
       "    <tr>\n",
       "      <th>9</th>\n",
       "      <td>12.0</td>\n",
       "      <td>2.77</td>\n",
       "      <td>7.91</td>\n",
       "      <td>0.00</td>\n",
       "      <td>0.0</td>\n",
       "      <td>6.12</td>\n",
       "      <td>1.0</td>\n",
       "      <td>0.0</td>\n",
       "      <td>0.0</td>\n",
       "      <td>5.0</td>\n",
       "      <td>0.03</td>\n",
       "      <td>0.03</td>\n",
       "      <td>0.0</td>\n",
       "      <td>0.00</td>\n",
       "      <td>0.11</td>\n",
       "      <td>1</td>\n",
       "      <td>0</td>\n",
       "      <td>0</td>\n",
       "      <td>0</td>\n",
       "    </tr>\n",
       "  </tbody>\n",
       "</table>\n",
       "</div>"
      ],
      "text/plain": [
       "   county  population   SPC  urban  MidWest  dBenton  southern  Kmart  \\\n",
       "0     1.0        3.72  8.62   0.55      0.0     6.23       1.0    1.0   \n",
       "1     3.0        3.29  8.24   0.29      0.0     6.39       1.0    0.0   \n",
       "2     4.0        2.93  7.86   0.19      0.0     6.15       1.0    0.0   \n",
       "3     5.0        3.80  7.94   0.09      0.0     6.14       1.0    0.0   \n",
       "4     6.0        2.43  7.71   0.35      0.0     6.34       1.0    0.0   \n",
       "5     7.0        3.08  8.33   0.25      0.0     6.29       1.0    0.0   \n",
       "6     9.0        3.60  8.21   0.50      0.0     6.32       1.0    0.0   \n",
       "7    10.0        3.07  8.18   0.00      0.0     6.24       1.0    1.0   \n",
       "8    11.0        3.59  8.35   0.12      0.0     6.20       1.0    0.0   \n",
       "9    12.0        2.77  7.91   0.00      0.0     6.12       1.0    0.0   \n",
       "\n",
       "   WalMart  smallstores  dKmart  dWMart   X1    X2    X3  count0  count1  \\\n",
       "0      1.0          5.0    0.03    0.03  0.0  0.03  0.14       0       0   \n",
       "1      1.0          6.0    0.02    0.02  1.0  0.06  0.14       0       1   \n",
       "2      1.0          1.0    0.09    0.09  1.0  0.05  0.08       0       1   \n",
       "3      1.0          6.0    0.24    0.26  1.0  0.04  0.02       0       1   \n",
       "4      0.0          3.0    0.06    0.06  0.0  0.05  0.21       1       0   \n",
       "5      1.0          6.0    0.02    0.02  1.0  0.02  0.12       0       1   \n",
       "6      1.0          5.0    0.11    0.11  1.0  0.07  0.19       0       1   \n",
       "7      0.0          6.0    0.14    0.14  0.0  0.16  0.24       0       1   \n",
       "8      1.0          7.0    0.03    0.05  1.0  0.07  0.14       0       1   \n",
       "9      0.0          5.0    0.03    0.03  0.0  0.00  0.11       1       0   \n",
       "\n",
       "   count2  nfirms  \n",
       "0       1       2  \n",
       "1       0       1  \n",
       "2       0       1  \n",
       "3       0       1  \n",
       "4       0       0  \n",
       "5       0       1  \n",
       "6       0       1  \n",
       "7       0       1  \n",
       "8       0       1  \n",
       "9       0       0  "
      ]
     },
     "execution_count": 2,
     "metadata": {},
     "output_type": "execute_result"
    }
   ],
   "source": [
    "master_data = pd.read_csv(\"jiadata2R.csv\")\n",
    "master_data.head(10)"
   ]
  },
  {
   "cell_type": "code",
   "execution_count": 22,
   "metadata": {},
   "outputs": [
    {
     "data": {
      "image/png": "[encoded data removed]",
      "text/plain": [
       "<Figure size 432x288 with 1 Axes>"
      ]
     },
     "metadata": {
      "needs_background": "light"
     },
     "output_type": "display_data"
    }
   ],
   "source": [
    "plt.hist(master_data['nfirms'])\n",
    "plt.xticks([0,1,2], [0, 1, 2])\n",
    "plt.show()"
   ]
  },
  {
   "cell_type": "code",
   "execution_count": 35,
   "metadata": {},
   "outputs": [
    {
     "name": "stdout",
     "output_type": "stream",
     "text": [
      "average population:  2.977859564164649\n",
      "average SPC:  8.202392251815981\n",
      "average urban:  0.32718159806295405\n"
     ]
    }
   ],
   "source": [
    "print(\"average population: \",master_data['population'].values.mean())\n",
    "print(\"average SPC: \",master_data['SPC'].values.mean())\n",
    "print(\"average urban: \",master_data['urban'].values.mean())"
   ]
  },
  {
   "cell_type": "markdown",
   "metadata": {},
   "source": [
    "# Model 1. Bresnahan and Reiss"
   ]
  },
  {
   "cell_type": "code",
   "execution_count": 59,
   "metadata": {},
   "outputs": [],
   "source": [
    "def model_1(theta):\n",
    "    alpha_0, alpha_1, alpha_2, alpha_3, alpha_4 = theta\n",
    "    delta = np.exp(alpha_4)\n",
    "\n",
    "    def prob_calculator(population, SPC, urban):\n",
    "        profit_M = np.array([alpha_0, alpha_1, alpha_2, alpha_3])@np.array([1, population, SPC, urban])\n",
    "        profit_D = profit_M - delta\n",
    "        \n",
    "        prob_n2 = norm.cdf(profit_D, loc=0, scale=1)**2   # square(prob of being profitable under duopoly)\n",
    "        prob_n0 = norm.cdf(-profit_M, loc=0, scale=1)**2  # square(prob of being unprofitable under monopoly)\n",
    "        prob_n1 = 1 - prob_n2 - prob_n0\n",
    "\n",
    "        return prob_n0, prob_n1, prob_n2\n",
    "    vec_prob_calculator = np.vectorize(prob_calculator)\n",
    "    prob_result = vec_prob_calculator(master_data['population'].values, master_data['SPC'].values, master_data['urban'].values)\n",
    "\n",
    "    count0 = master_data['count0'].values\n",
    "    count1 = master_data['count1'].values\n",
    "    count2 = master_data['count2'].values\n",
    "\n",
    "    prob_array = count0*prob_result[0] + count1*prob_result[1] + count2*prob_result[2]\n",
    "    ln_prob_array = np.log(prob_array)\n",
    "    ln_sum = ln_prob_array.sum()\n",
    "\n",
    "    return -ln_sum"
   ]
  },
  {
   "cell_type": "code",
   "execution_count": 56,
   "metadata": {},
   "outputs": [],
   "source": [
    "MLE_result = minimize(model_1, [-10, 1, 1, 1, 0], method='L-BFGS-B', options={'maxiter':200})"
   ]
  },
  {
   "cell_type": "code",
   "execution_count": 61,
   "metadata": {},
   "outputs": [
    {
     "name": "stdout",
     "output_type": "stream",
     "text": [
      "constant term:  -14.035019742231885\n",
      "effect of population term:  1.3248206743346689\n",
      "effect of SPC term:  1.1256237416107922\n",
      "effect of Urban term:  1.0286253511549457\n",
      "effect of competition:  0.6536059296828228\n"
     ]
    }
   ],
   "source": [
    "print(\"constant term: \", MLE_result.x[0])\n",
    "print(\"effect of population term: \", MLE_result.x[1])\n",
    "print(\"effect of SPC term: \", MLE_result.x[2])\n",
    "print(\"effect of Urban term: \", MLE_result.x[3])\n",
    "print(\"effect of competition: \", np.exp(MLE_result.x[4]))"
   ]
  },
  {
   "cell_type": "markdown",
   "metadata": {},
   "source": [
    "# Model 2. Berry"
   ]
  },
  {
   "cell_type": "markdown",
   "metadata": {},
   "source": [
    "## (1) WalMart Moves First"
   ]
  },
  {
   "cell_type": "code",
   "execution_count": 153,
   "metadata": {},
   "outputs": [],
   "source": [
    "# W moves first\n",
    "def model_2_W_first(theta): \n",
    "    c_population, c_SPC, c_urban, c_delta, c_Wmart, c_benton, c_south, c_Kmart, c_midwest = theta\n",
    "    delta = np.exp(c_delta)\n",
    "\n",
    "    duopoly_array = master_data['Kmart'].values * master_data['WalMart'].values\n",
    "    Wmart_array = master_data['WalMart'].values * (1-master_data['Kmart'].values)\n",
    "    Kmart_array = master_data['Kmart'].values * (1-master_data['WalMart'].values)\n",
    "    none_array = 1 - duopoly_array - Wmart_array - Kmart_array\n",
    "\n",
    "    pi_W = c_Wmart + c_population*master_data['population'].values + c_SPC*master_data['SPC'] + c_urban*master_data['urban'] + \\\n",
    "                     c_benton*master_data['dBenton'].values + c_south*master_data['southern'].values\n",
    "    pi_K = c_Kmart + c_population*master_data['population'].values + c_SPC*master_data['SPC'] + c_urban*master_data['urban'] + \\\n",
    "                     c_midwest*master_data['MidWest']\n",
    "\n",
    "    #(1) Prob of two firm entry\n",
    "    prob_duopoly = norm.cdf(pi_W - delta) * norm.cdf(pi_K - delta)\n",
    "\n",
    "    #(2) Prob of no firm\n",
    "    prob_none = norm.cdf(-pi_W) * norm.cdf(-pi_K)\n",
    "\n",
    "    #(3) Prob of Wmart\n",
    "    prob_Wmart = norm.cdf(pi_W) * norm.cdf(-pi_K + delta)\n",
    "\n",
    "    #(4) Prob of Kmart\n",
    "    prob_Kmart = 1 - prob_duopoly - prob_none - prob_Wmart\n",
    "\n",
    "    #(5) Associated target prob\n",
    "    prob_target = duopoly_array*prob_duopoly + none_array*prob_none + Kmart_array*prob_Kmart + Wmart_array*prob_Wmart\n",
    "    ln_prob = np.log(prob_target)\n",
    "\n",
    "    return -ln_prob.sum()\n"
   ]
  },
  {
   "cell_type": "code",
   "execution_count": 154,
   "metadata": {},
   "outputs": [],
   "source": [
    "MLE_result2 = minimize(model_2_W_first, [1.6, 1.5, 1.2, 0.4, -10, -1, 0.7, -19, 0.3], method='L-BFGS-B', options={'maxiter':200})"
   ]
  },
  {
   "cell_type": "code",
   "execution_count": 156,
   "metadata": {},
   "outputs": [
    {
     "name": "stdout",
     "output_type": "stream",
     "text": [
      "effect of population:  1.677387916870161\n",
      "effect of SPC:  1.5242629097150928\n",
      "effect of Urban:  1.192068248895334\n",
      "effect of competition:  0.39558286877952303\n",
      "effect of Walmart:  -11.763169021251633\n",
      "effect of Distance to Benton:  -1.0628658774812962\n",
      "effect of Southern dummy:  0.7167316264950168\n",
      "effect of Kmart:  -19.56880584277708\n",
      "effect of MidWest dummy:  0.36926067970824145\n"
     ]
    }
   ],
   "source": [
    "print(\"effect of population: \", MLE_result2.x[0])\n",
    "print(\"effect of SPC: \", MLE_result2.x[1])\n",
    "print(\"effect of Urban: \", MLE_result2.x[2])\n",
    "print(\"effect of competition: \", np.exp(MLE_result2.x[3]))\n",
    "print(\"effect of Walmart: \", MLE_result2.x[4])\n",
    "print(\"effect of Distance to Benton: \", MLE_result2.x[5])\n",
    "print(\"effect of Southern dummy: \", MLE_result2.x[6])\n",
    "print(\"effect of Kmart: \", MLE_result2.x[7])\n",
    "print(\"effect of MidWest dummy: \", MLE_result2.x[8])"
   ]
  },
  {
   "cell_type": "markdown",
   "metadata": {},
   "source": [
    "## (2) Kmart Moves First"
   ]
  },
  {
   "cell_type": "code",
   "execution_count": 179,
   "metadata": {},
   "outputs": [],
   "source": [
    "# W moves first\n",
    "def model_2_K_first(theta): \n",
    "    c_population, c_SPC, c_urban, c_delta, c_Wmart, c_benton, c_south, c_Kmart, c_midwest = theta\n",
    "    delta = np.exp(c_delta)\n",
    "\n",
    "    duopoly_array = master_data['Kmart'].values * master_data['WalMart'].values\n",
    "    Wmart_array = master_data['WalMart'].values * (1-master_data['Kmart'].values)\n",
    "    Kmart_array = master_data['Kmart'].values * (1-master_data['WalMart'].values)\n",
    "    none_array = 1 - duopoly_array - Wmart_array - Kmart_array\n",
    "\n",
    "    pi_W = c_Wmart + c_population*master_data['population'].values + c_SPC*master_data['SPC'] + c_urban*master_data['urban'] + \\\n",
    "                     c_benton*master_data['dBenton'].values + c_south*master_data['southern'].values\n",
    "    pi_K = c_Kmart + c_population*master_data['population'].values + c_SPC*master_data['SPC'] + c_urban*master_data['urban'] + \\\n",
    "                     c_midwest*master_data['MidWest']\n",
    "\n",
    "    #(1) Prob of two firm entry\n",
    "    prob_duopoly = norm.cdf(pi_W - delta) * norm.cdf(pi_K - delta)\n",
    "\n",
    "    #(2) Prob of no firm\n",
    "    prob_none = norm.cdf(-pi_W) * norm.cdf(-pi_K)\n",
    "\n",
    "    #(3) Prob of Wmart\n",
    "    prob_Kmart = norm.cdf(pi_K) * norm.cdf(-pi_W + delta)\n",
    "\n",
    "    #(4) Prob of Kmart\n",
    "    prob_Wmart = 1 - prob_duopoly - prob_none - prob_Kmart\n",
    "\n",
    "    #(5) Associated target prob\n",
    "    prob_target = duopoly_array*prob_duopoly + none_array*prob_none + Kmart_array*prob_Kmart + Wmart_array*prob_Wmart\n",
    "    prob_target = np.where(prob_target <= 0, 0.00001, prob_target)\n",
    "    ln_prob = np.log(prob_target)\n",
    "\n",
    "    return -ln_prob.sum()\n"
   ]
  },
  {
   "cell_type": "code",
   "execution_count": 180,
   "metadata": {},
   "outputs": [],
   "source": [
    "MLE_result3 = minimize(model_2_K_first, [1.7, 1.5, 1.2, 0.4, -12, -1, 0.7, -19, 0.3], method='L-BFGS-B', options={'maxiter':200})"
   ]
  },
  {
   "cell_type": "code",
   "execution_count": 181,
   "metadata": {},
   "outputs": [
    {
     "name": "stdout",
     "output_type": "stream",
     "text": [
      "effect of population:  1.6890475161420677\n",
      "effect of SPC:  1.539843602383923\n",
      "effect of Urban:  1.2058371750910133\n",
      "effect of competition:  0.38213066157173486\n",
      "effect of Walmart:  -11.89495257597386\n",
      "effect of Distance to Benton:  -1.065483560023668\n",
      "effect of Southern dummy:  0.712521304139117\n",
      "effect of Kmart:  -19.784841567886517\n",
      "effect of MidWest dummy:  0.3666154926246454\n"
     ]
    }
   ],
   "source": [
    "print(\"effect of population: \", MLE_result3.x[0])\n",
    "print(\"effect of SPC: \", MLE_result3.x[1])\n",
    "print(\"effect of Urban: \", MLE_result3.x[2])\n",
    "print(\"effect of competition: \", np.exp(MLE_result3.x[3]))\n",
    "print(\"effect of Walmart: \", MLE_result3.x[4])\n",
    "print(\"effect of Distance to Benton: \", MLE_result3.x[5])\n",
    "print(\"effect of Southern dummy: \", MLE_result3.x[6])\n",
    "print(\"effect of Kmart: \", MLE_result3.x[7])\n",
    "print(\"effect of MidWest dummy: \", MLE_result3.x[8])"
   ]
  },
  {
   "cell_type": "markdown",
   "metadata": {},
   "source": [
    "# Model 3. NFXP"
   ]
  },
  {
   "cell_type": "code",
   "execution_count": 210,
   "metadata": {},
   "outputs": [],
   "source": [
    "def model_3_NFXP(theta): \n",
    "    epsilon = 0.000000000000001\n",
    "    alpha = 1\n",
    "    c_population, c_SPC, c_urban, c_delta, c_Wmart, c_benton, c_south, c_Kmart, c_midwest = theta\n",
    "    delta = np.exp(c_delta)\n",
    "\n",
    "    pi_W = c_Wmart + c_population*master_data['population'].values + c_SPC*master_data['SPC'] + c_urban*master_data['urban'] + \\\n",
    "                     c_benton*master_data['dBenton'].values + c_south*master_data['southern'].values\n",
    "    pi_K = c_Kmart + c_population*master_data['population'].values + c_SPC*master_data['SPC'] + c_urban*master_data['urban'] + \\\n",
    "                     c_midwest*master_data['MidWest']\n",
    "\n",
    "    pw_pre = np.full(2065,0.5)\n",
    "    pk_pre = np.full(2065,0.5)\n",
    "\n",
    "    while True:\n",
    "        pw_post = alpha*norm.cdf(pi_K - delta*pk_pre) + (1-alpha)*pw_pre\n",
    "        pk_post = alpha*norm.cdf(pi_W - delta*pw_pre) + (1-alpha)*pk_pre\n",
    "\n",
    "        pw_criterion = (abs(pw_post - pw_pre)).max()\n",
    "        pk_criterion = (abs(pk_post - pk_pre)).max()\n",
    "        \n",
    "        if max(pw_criterion, pk_criterion) < epsilon:\n",
    "            break\n",
    "        else: \n",
    "            pw_pre = pw_post\n",
    "            pk_pre = pk_post\n",
    "\n",
    "    prob_Wmart = master_data['WalMart'].values*np.log(pw_post) + (1-master_data['WalMart'].values)*np.log(1-pw_post)\n",
    "    prob_Kmart = master_data['Kmart'].values*np.log(pk_post) + (1-master_data['Kmart'].values)*np.log(1-pk_post)\n",
    "\n",
    "    ln_sum = prob_Wmart + prob_Kmart\n",
    "\n",
    "    return -ln_sum.sum()\n"
   ]
  },
  {
   "cell_type": "code",
   "execution_count": 211,
   "metadata": {},
   "outputs": [],
   "source": [
    "MLE_result4 = minimize(model_3_NFXP, [1.7, 1.5, 1.2, 0.4, -12, -1, 0.7, -19, 0.3], method='Nelder-Mead', options={'maxiter':200})"
   ]
  },
  {
   "cell_type": "code",
   "execution_count": 212,
   "metadata": {},
   "outputs": [
    {
     "name": "stdout",
     "output_type": "stream",
     "text": [
      "effect of population:  1.879557899549483\n",
      "effect of SPC:  1.869429398653214\n",
      "effect of Urban:  -0.8764371473430544\n",
      "effect of competition:  1.3109135882430365\n",
      "effect of Walmart:  -24.868096878990876\n",
      "effect of Distance to Benton:  0.5206325052149736\n",
      "effect of Southern dummy:  0.3684754690116696\n",
      "effect of Kmart:  -20.58632323182482\n",
      "effect of MidWest dummy:  -0.13408899863221738\n"
     ]
    }
   ],
   "source": [
    "print(\"effect of population: \", MLE_result4.x[0])\n",
    "print(\"effect of SPC: \", MLE_result4.x[1])\n",
    "print(\"effect of Urban: \", MLE_result4.x[2])\n",
    "print(\"effect of competition: \", np.exp(MLE_result4.x[3]))\n",
    "print(\"effect of Walmart: \", MLE_result4.x[4])\n",
    "print(\"effect of Distance to Benton: \", MLE_result4.x[5])\n",
    "print(\"effect of Southern dummy: \", MLE_result4.x[6])\n",
    "print(\"effect of Kmart: \", MLE_result4.x[7])\n",
    "print(\"effect of MidWest dummy: \", MLE_result4.x[8])"
   ]
  },
  {
   "cell_type": "markdown",
   "metadata": {},
   "source": [
    "# Model 4. 2step"
   ]
  },
  {
   "cell_type": "code",
   "execution_count": 213,
   "metadata": {},
   "outputs": [],
   "source": [
    "import statsmodels.api as sm"
   ]
  },
  {
   "cell_type": "code",
   "execution_count": 227,
   "metadata": {},
   "outputs": [],
   "source": [
    "Kmart_data = master_data.copy()\n",
    "Kmart_data['interaction_1'] = Kmart_data['population'].values * Kmart_data['SPC']\n",
    "Kmart_data['interaction_2'] = Kmart_data['population'].values * Kmart_data['urban']\n",
    "Kmart_data['interaction_3'] = Kmart_data['population'].values * Kmart_data['MidWest']\n",
    "Kmart_data['interaction_4'] = Kmart_data['SPC'].values * Kmart_data['urban']\n",
    "Kmart_data['interaction_5'] = Kmart_data['SPC'].values * Kmart_data['MidWest']\n",
    "Kmart_data['interaction_6'] = Kmart_data['urban'].values * Kmart_data['MidWest']\n",
    "Kmart_binom = sm.GLM(Kmart_data['Kmart'], Kmart_data[['population','SPC','urban', 'MidWest', 'interaction_1', 'interaction_2', 'interaction_3', 'interaction_4', 'interaction_5', 'interaction_6']], family = sm.families.Binomial())\n",
    "Kmart_res = Kmart_binom.fit()\n",
    "Kmart_first_stage = Kmart_res.predict(Kmart_data[['population','SPC','urban', 'MidWest', 'interaction_1', 'interaction_2', 'interaction_3', 'interaction_4', 'interaction_5', 'interaction_6']])"
   ]
  },
  {
   "cell_type": "code",
   "execution_count": 228,
   "metadata": {},
   "outputs": [],
   "source": [
    "Wmart_data = master_data.copy()\n",
    "Wmart_data['interaction_1'] = Wmart_data['population'].values * Wmart_data['SPC']\n",
    "Wmart_data['interaction_2'] = Wmart_data['population'].values * Wmart_data['urban']\n",
    "Wmart_data['interaction_3'] = Wmart_data['population'].values * Wmart_data['dBenton']\n",
    "Wmart_data['interaction_4'] = Wmart_data['population'].values * Wmart_data['southern']\n",
    "Wmart_data['interaction_5'] = Wmart_data['SPC'].values * Wmart_data['urban']\n",
    "Wmart_data['interaction_6'] = Wmart_data['SPC'].values * Wmart_data['dBenton']\n",
    "Wmart_data['interaction_7'] = Wmart_data['SPC'].values * Wmart_data['southern']\n",
    "Wmart_data['interaction_8'] = Wmart_data['urban'].values * Wmart_data['dBenton']\n",
    "Wmart_data['interaction_9'] = Wmart_data['urban'].values * Wmart_data['southern']\n",
    "Wmart_data['interaction_10'] = Wmart_data['dBenton'].values * Wmart_data['southern']\n",
    "Wmart_binom = sm.GLM(Wmart_data['WalMart'], Wmart_data[['population','SPC','urban', 'dBenton', 'southern', 'interaction_1', 'interaction_2', 'interaction_3', 'interaction_4', 'interaction_5', 'interaction_6', 'interaction_7', 'interaction_8', 'interaction_9', 'interaction_10']], family = sm.families.Binomial())\n",
    "Wmart_res = Wmart_binom.fit()\n",
    "Wmart_first_stage = Wmart_res.predict(Wmart_data[['population','SPC','urban', 'dBenton', 'southern', 'interaction_1', 'interaction_2', 'interaction_3', 'interaction_4', 'interaction_5', 'interaction_6', 'interaction_7', 'interaction_8', 'interaction_9', 'interaction_10']])"
   ]
  },
  {
   "cell_type": "code",
   "execution_count": 230,
   "metadata": {},
   "outputs": [],
   "source": [
    "master_data['prob_K_first'] = Kmart_first_stage\n",
    "master_data['prob_W_first'] = Wmart_first_stage"
   ]
  },
  {
   "cell_type": "code",
   "execution_count": 232,
   "metadata": {},
   "outputs": [],
   "source": [
    "def model_4_2step(theta): \n",
    "    c_population, c_SPC, c_urban, c_delta, c_Wmart, c_benton, c_south, c_Kmart, c_midwest = theta\n",
    "    delta = np.exp(c_delta)\n",
    "\n",
    "    pi_W = c_Wmart + c_population*master_data['population'].values + c_SPC*master_data['SPC'] + c_urban*master_data['urban'] + \\\n",
    "                     c_benton*master_data['dBenton'].values + c_south*master_data['southern'].values\n",
    "    pi_K = c_Kmart + c_population*master_data['population'].values + c_SPC*master_data['SPC'] + c_urban*master_data['urban'] + \\\n",
    "                     c_midwest*master_data['MidWest']\n",
    "\n",
    "    pw_post = norm.cdf(pi_W - delta*master_data['prob_K_first'].values)\n",
    "    pk_post = norm.cdf(pi_K - delta*master_data['prob_W_first'].values)\n",
    "\n",
    "    prob_Wmart = master_data['WalMart'].values*np.log(pw_post) + (1-master_data['WalMart'].values)*np.log(1-pw_post)\n",
    "    prob_Kmart = master_data['Kmart'].values*np.log(pk_post) + (1-master_data['Kmart'].values)*np.log(1-pk_post)\n",
    "\n",
    "    ln_sum = prob_Wmart + prob_Kmart\n",
    "\n",
    "    return -ln_sum.sum()\n"
   ]
  },
  {
   "cell_type": "code",
   "execution_count": 233,
   "metadata": {},
   "outputs": [],
   "source": [
    "MLE_result5 = minimize(model_4_2step, [1.7, 1.5, 1.2, 0.4, -12, -1, 0.7, -19, 0.3], method='Nelder-Mead', options={'maxiter':200})"
   ]
  },
  {
   "cell_type": "code",
   "execution_count": 235,
   "metadata": {},
   "outputs": [
    {
     "name": "stdout",
     "output_type": "stream",
     "text": [
      "effect of population:  1.9542927018744147\n",
      "effect of SPC:  1.774016883282029\n",
      "effect of Urban:  1.3527506046816755\n",
      "effect of competition:  1.2626039384411514\n",
      "effect of Walmart:  -14.489026465239222\n",
      "effect of Distance to Benton:  -1.0819277206698352\n",
      "effect of Southern dummy:  0.7435641693140882\n",
      "effect of Kmart:  -22.06061896151596\n",
      "effect of MidWest dummy:  0.3150992045612935\n"
     ]
    }
   ],
   "source": [
    "print(\"effect of population: \", MLE_result5.x[0])\n",
    "print(\"effect of SPC: \", MLE_result5.x[1])\n",
    "print(\"effect of Urban: \", MLE_result5.x[2])\n",
    "print(\"effect of competition: \", np.exp(MLE_result5.x[3]))\n",
    "print(\"effect of Walmart: \", MLE_result5.x[4])\n",
    "print(\"effect of Distance to Benton: \", MLE_result5.x[5])\n",
    "print(\"effect of Southern dummy: \", MLE_result5.x[6])\n",
    "print(\"effect of Kmart: \", MLE_result5.x[7])\n",
    "print(\"effect of MidWest dummy: \", MLE_result5.x[8])"
   ]
  },
  {
   "cell_type": "markdown",
   "metadata": {},
   "source": [
    "# Model 5. NPL"
   ]
  },
  {
   "cell_type": "code",
   "execution_count": 265,
   "metadata": {},
   "outputs": [
    {
     "name": "stdout",
     "output_type": "stream",
     "text": [
      "0\n",
      "10\n",
      "20\n",
      "30\n",
      "40\n",
      "50\n",
      "60\n",
      "70\n",
      "80\n",
      "90\n"
     ]
    }
   ],
   "source": [
    "# initial condition\n",
    "pw_pre = master_data['prob_W_first'].values\n",
    "pk_pre = master_data['prob_K_first'].values\n",
    "\n",
    "counter = 0\n",
    "while (counter < 100):\n",
    "    epsilon = 0.00000001\n",
    "\n",
    "    \n",
    "    # solve for optimal theta\n",
    "    def model_5_NPL(theta): \n",
    "        c_population, c_SPC, c_urban, c_delta, c_Wmart, c_benton, c_south, c_Kmart, c_midwest = theta\n",
    "        delta = np.exp(c_delta)\n",
    "\n",
    "        pi_W = c_Wmart + c_population*master_data['population'].values + c_SPC*master_data['SPC'] + c_urban*master_data['urban'] + \\\n",
    "                        c_benton*master_data['dBenton'].values + c_south*master_data['southern'].values\n",
    "        pi_K = c_Kmart + c_population*master_data['population'].values + c_SPC*master_data['SPC'] + c_urban*master_data['urban'] + \\\n",
    "                        c_midwest*master_data['MidWest']\n",
    "\n",
    "        pw_plugin = norm.cdf(pi_W - delta*pw_pre)\n",
    "        pk_plugin = norm.cdf(pi_K - delta*pk_pre)\n",
    "\n",
    "        prob_Wmart = master_data['WalMart'].values*np.log(pw_plugin) + (1-master_data['WalMart'].values)*np.log(1-pw_plugin)\n",
    "        prob_Kmart = master_data['Kmart'].values*np.log(pk_plugin) + (1-master_data['Kmart'].values)*np.log(1-pk_plugin)\n",
    "\n",
    "        ln_sum = prob_Wmart + prob_Kmart\n",
    "\n",
    "        return -ln_sum.sum()\n",
    "\n",
    "    MLE_result6 = minimize(model_5_NPL, [1.7, 1.5, 1.2, 0.4, -12, -1, 0.7, -19, 0.3], method='Nelder-Mead', options={'maxiter':200})\n",
    "\n",
    "    \n",
    "    c_population, c_SPC, c_urban, c_delta, c_Wmart, c_benton, c_south, c_Kmart, c_midwest = MLE_result6.x\n",
    "\n",
    "    pi_W = c_Wmart + c_population*master_data['population'].values + c_SPC*master_data['SPC'] + c_urban*master_data['urban'] + \\\n",
    "                    c_benton*master_data['dBenton'].values + c_south*master_data['southern'].values\n",
    "    pi_K = c_Kmart + c_population*master_data['population'].values + c_SPC*master_data['SPC'] + c_urban*master_data['urban'] + \\\n",
    "                    c_midwest*master_data['MidWest']\n",
    "\n",
    "    # update probability\n",
    "    delta = np.exp(MLE_result6.x[3])\n",
    "    pw_post = norm.cdf(pi_W - delta*pk_pre) \n",
    "    pk_post = norm.cdf(pi_K - delta*pw_pre) \n",
    "\n",
    "    pw_criterion = (abs(pw_post - pw_pre)).max()\n",
    "    pk_criterion = (abs(pk_post - pk_pre)).max()\n",
    "    \n",
    "    if counter % 10 == 0:\n",
    "        print(counter)\n",
    "\n",
    "    if max(pw_criterion, pk_criterion) < epsilon:\n",
    "        break\n",
    "    else: \n",
    "        pw_pre = pw_post\n",
    "        pk_pre = pk_post\n",
    "        counter += 1 "
   ]
  },
  {
   "cell_type": "code",
   "execution_count": 267,
   "metadata": {},
   "outputs": [
    {
     "name": "stdout",
     "output_type": "stream",
     "text": [
      "effect of population:  1.8785232190842747\n",
      "effect of SPC:  1.68142930116211\n",
      "effect of Urban:  1.887953936558132\n",
      "effect of competition:  0.9944596037212455\n",
      "effect of Walmart:  -12.908925053467751\n",
      "effect of Distance to Benton:  -1.1396583767665263\n",
      "effect of Southern dummy:  0.825064133276562\n",
      "effect of Kmart:  -21.962056297837528\n",
      "effect of MidWest dummy:  0.3475773853471218\n"
     ]
    }
   ],
   "source": [
    "print(\"effect of population: \", MLE_result6.x[0])\n",
    "print(\"effect of SPC: \", MLE_result6.x[1])\n",
    "print(\"effect of Urban: \", MLE_result6.x[2])\n",
    "print(\"effect of competition: \", np.exp(MLE_result6.x[3]))\n",
    "print(\"effect of Walmart: \", MLE_result6.x[4])\n",
    "print(\"effect of Distance to Benton: \", MLE_result6.x[5])\n",
    "print(\"effect of Southern dummy: \", MLE_result6.x[6])\n",
    "print(\"effect of Kmart: \", MLE_result6.x[7])\n",
    "print(\"effect of MidWest dummy: \", MLE_result6.x[8])"
   ]
  }
 ],
 "metadata": {
  "kernelspec": {
   "display_name": "Python 3.9.7 ('base')",
   "language": "python",
   "name": "python3"
  },
  "language_info": {
   "codemirror_mode": {
    "name": "ipython",
    "version": 3
   },
   "file_extension": ".py",
   "mimetype": "text/x-python",
   "name": "python",
   "nbconvert_exporter": "python",
   "pygments_lexer": "ipython3",
   "version": "3.9.7"
  },
  "orig_nbformat": 4,
  "vscode": {
   "interpreter": {
    "hash": "4058ae7d101d4d34f9fe782bbb6316095f0ede2a1a2e6a1564fc2428590ee83d"
   }
  }
 },
 "nbformat": 4,
 "nbformat_minor": 2
}
